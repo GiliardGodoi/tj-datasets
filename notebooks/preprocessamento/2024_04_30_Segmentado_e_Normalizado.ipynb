{
  "nbformat": 4,
  "nbformat_minor": 0,
  "metadata": {
    "colab": {
      "provenance": [],
      "machine_shape": "hm",
      "authorship_tag": "ABX9TyMzgFB6sdG18WC2xU6q1dE5",
      "include_colab_link": true
    },
    "kernelspec": {
      "name": "python3",
      "display_name": "Python 3"
    },
    "language_info": {
      "name": "python"
    },
    "widgets": {
      "application/vnd.jupyter.widget-state+json": {
        "66a80dbcea5b47d2a8f9194fd2019a81": {
          "model_module": "@jupyter-widgets/controls",
          "model_name": "BoxModel",
          "model_module_version": "1.5.0",
          "state": {
            "_dom_classes": [],
            "_model_module": "@jupyter-widgets/controls",
            "_model_module_version": "1.5.0",
            "_model_name": "BoxModel",
            "_view_count": null,
            "_view_module": "@jupyter-widgets/controls",
            "_view_module_version": "1.5.0",
            "_view_name": "BoxView",
            "box_style": "",
            "children": [
              "IPY_MODEL_8a1c4ebd974349f1a6ee66901fae863c",
              "IPY_MODEL_1e13ffd6538b4dfa9983c31e285f9367"
            ],
            "layout": "IPY_MODEL_b7176f139a774e0b8a834b3f9cdceef8"
          }
        },
        "8a1c4ebd974349f1a6ee66901fae863c": {
          "model_module": "@jupyter-widgets/controls",
          "model_name": "TextareaModel",
          "model_module_version": "1.5.0",
          "state": {
            "_dom_classes": [],
            "_model_module": "@jupyter-widgets/controls",
            "_model_module_version": "1.5.0",
            "_model_name": "TextareaModel",
            "_view_count": null,
            "_view_module": "@jupyter-widgets/controls",
            "_view_module_version": "1.5.0",
            "_view_name": "TextareaView",
            "continuous_update": true,
            "description": "Original:",
            "description_tooltip": null,
            "disabled": false,
            "layout": "IPY_MODEL_f8e111bf6af24792816487bb26eae7b7",
            "placeholder": "​",
            "rows": null,
            "style": "IPY_MODEL_a33577ede516409c9e4a911a553e549f",
            "value": "artigo_295 paragrafo unico codigo_processo_civil_73 considera inepta inicial faltar pedido causa pedir narracao fatos nao decorrer logicamente conclusao pedido juridicamente impossivel contiver pedidos incompativeis mera indicacao data sinistro porem nao conduz reconhecimento inepcia inicial danos imovel carater progressivo considerando pericia realizada identificou pormenorizadamente extensao monta danos forcosa conclusao peticao inicial preenche satisfatoriamente requisitos artigo__numero_ codigo_processo_civil_73 nao vislumbrando inepcia alegada sumula incidencia enunciado _numero_ sumula_superior_tribunal_justica agravo_regimental agravo_de_instrumento 230826_sao_paulo turma salvio figueiredo teixeira seguro habitacional indenizacao preliminares ilegitimidade prescricao inepcia inicial participacao caixa_economica_federal quitacao rejeitadas prescricao inocorrencia autor apelado nao segurado direto beneficiarios seguro habitacional inaplicavel inciso artigo__numero_ codigo_civil_i hipotese incidencia respeito relacao acao segurado seguradora realizado trato sucessivo sendo certo prescricao interrompendo pagamento parcela financiamento engloba premio seguro prescricao afastada denunciacao lide caixa_economica_federal inadmissibilidade agravos retidos improvidos cobertura vicios construtivos imovel risco previsto apolice admissibilidade indenizacao securitaria pretendida multa decendial pertence mutuario recursos improvidos seguradora responsavel presentes vicios decorrentes construcao nao havendo sustentar entendimento examinada questao haveria negativa vigencia artigo__numero_ antigo codigo_civil recurso_especial 813898_sao_paulo turma carlos alberto menezes direito_DATA_JULGAMENTO_ novidade posicao adotada acordao sentido entender sumariamente responsabilidade seguradora eventos causa interna falhas construtivas sentenca negou vigencia artigo__numero_ codigo_civil revogado vigente epoca _folha_ tese esbarrando sumula__numero_ corte enfrentar tema considerando decidido ocorre reconhecimento seguro habitacional oriundo contratos subordinados financeiro habitacao impoe obrigacao seguradora responder danos fisicos nao valendo exclusao feita acordao concerne artigo__numero_ antigo codigo_civil diga exclusao nao serve descaracterizar obrigacao seguradora acordao nao desguarnece cobertura securitaria entende haver causas externas aplicar artigo__numero_ codigo_civil anterior nao estaria seguradora pagamento descaracteriza cobertura sumula__numero_ corte inviabilizar exatamente distincao considerando natureza proprio seguro habitacional vale anotar precedentes posto mencionadas sumulas _numero_ _numero_ corte reconhecido seguro habitacional vicios construtivos alcanca seguradora agrgag 262414_rs turma aldir passarinho junior _data_ recurso_especial 280380_rs turma salvio figueiredo teixeira _data_ anoto outro acordao tratou identificar violacao artigo__numero_ antigo codigo_civil imputacao responsabilidade seguradora fugindo interpretacao tratando relacao consumo previsao expressa paragrafo artigo_3 codigo_defesa_consumidor disposicoes contratuais interpretadas favoravelmente consumidor trata tipico adesao seguro habitacional simplesmente imposto mutuario financeiro habitacao possibilitar discussao alguma clausulas condicoes multa decendial prevista aplicada sentenca transitada julgado previsao dies quo fluicao fixacao fase execucao ocasiao embargos devedor vier resultar limite estabelecido artigo__numero_ lei substantiva obrigacao principal margem incidencia aludida norma evitando enriquecimento causa autor"
          }
        },
        "1e13ffd6538b4dfa9983c31e285f9367": {
          "model_module": "@jupyter-widgets/controls",
          "model_name": "TextareaModel",
          "model_module_version": "1.5.0",
          "state": {
            "_dom_classes": [],
            "_model_module": "@jupyter-widgets/controls",
            "_model_module_version": "1.5.0",
            "_model_name": "TextareaModel",
            "_view_count": null,
            "_view_module": "@jupyter-widgets/controls",
            "_view_module_version": "1.5.0",
            "_view_name": "TextareaView",
            "continuous_update": true,
            "description": "Processado:",
            "description_tooltip": null,
            "disabled": false,
            "layout": "IPY_MODEL_f8e111bf6af24792816487bb26eae7b7",
            "placeholder": "​",
            "rows": null,
            "style": "IPY_MODEL_f3687ea1fda741839a327708afece1e0",
            "value": "acordam sessao permanente virtual camara privado justica sao_paulo proferir seguinte decisao negaram provimento recursos procedencia carreando recurso_extraordinario onus sucumbencia agravo retido desprovido negado provimento recursos trata acao indenizacao danos materiais decorrente sinistro imovel segurado ajuizada claudia siqueira face bradesco seguros _folha_ 02_27 362__numero_ 497_504 julgada procedente termos respeitavel sentenca _folha_ 697_711 carreando demandada pagamento custas despesas processuais honorarios advocaticios arbitrados _porcentagem_ condenacao merito pugnou improcedencia sustentando apolice seguro habitacional nao inclui cobertura chamados vicios construcao dando ensejo presente sobreveio decreto procedencia condenando recurso_extraordinario pagar autora indenizacao securitaria 17449 corrigidos monetariamente tabela pratica tjsp entrega laudo _data_ acrescidos juros mora _porcentagem_ citacao prejuizo pena convencional _porcentagem_ indenizacao decendio fracao atraso contando citacao limitada _porcentagem_ total dano indenizado condenou demandada outrossim pagamento custas despesas processuais honorarios advocaticios arbitrados _porcentagem_ condenacao provido tj_sao_paulo camara privado apelacao_civel _registro_juridico_ carlos alberto salles participacao donega morandini egidio giacoia data _data_ destaque nao original enunciado agravo desprovido seguro habitacional indenizacao preliminares ilegitimidade prescricao inepcia inicial participacao caixa_economica_federal quitacao rejeitadas prescricao inocorrencia autor apelado nao segurado direto beneficiarios seguro habitacional inaplicavel inciso artigo__numero_ codigo_civil_i hipotese incidencia respeito relacao acao segurado seguradora realizado trato sucessivo sendo certo prescricao interrompendo pagamento parcela financiamento engloba premio seguro prescricao afastada denunciacao lide caixa_economica_federal inadmissibilidade agravos retidos improvidos cobertura vicios construtivos imovel risco previsto apolice admissibilidade indenizacao securitaria pretendida multa decendial pertence mutuario recursos improvidos _data_ prescricao seguro habitacional danos decorrentes vicios construcao hipotese danos continuos manifestacao progressiva sendo impossivel fixar termo inicial prazo prescricional previsto artigo_178 cc_i _numero_ inocorrencia prescricao decisao confirmada nao provido apelacao civel 228561 _numero_ grava brazil_DATA_JULGAMENTO_ prescricao seguro habitacional seguro firmado cohab_baixada santista seguradora recurso_extraordinario autora beneficiaria apolice prescricao vintenaria danos continuos permanentes progressivos cobertura seguro habitacional protrai renova extincao afastada provido revisao 309804 _numero_ carlos augusto santi ribeiro acolhimento provido merito desprovido recursos improvidos apelacao _registro_juridico_ camara privado desembargador beretta silveira realizado dia _data_ participacao desembargadores egidio giacoia donega morandini vencido acao indenizacao sentenca improcedencia nao incidencia hipotese exclusao cobertura securitaria vicio intrinseco incluido cobertura dever seguradora fiscalizar andamento obra indenizacao devida provido observacao apelacao 2088 334_2 cubatao camara seguro habitacional apelacao privado desembargador piva rodrigues _data_ votacao_unamime indenizacao acao promovida companhia seguradora seguro cobrindo riscos edificacao imovel popular clausula pretende restringir alcance cobertura colide regramento avenca inaplicabilidade indenizacao devida refere montante indenizacao devera apurado liquidacao sentenca evidencia autos danos estao sendo sanados propria cdhu e_ou empreiteira contratada agravo retido nao posto nao reiterado apelo provido apelacao 2322894_0 cubatao camara privado desembargador sergio gomes _data_ apelacao civel acao indenizacao seguro habitacional danos fisicos imoveis negativa seguradora reclamo aforado decisao julgou procedente pedido autores alegacao danos advem falhas construcao conservacao imoveis eventos nao acobertados seguro improcedencia alegacoes ausencia clausula afastando cobertura falhas construcao conservacao afastada orcamentos apresentados pericia adesao interpretacao favoravel segurado ocorrencia danos nao reparados poderao ocasionar desabamento imoveis ameaca hipotese prevista recursos conhecidos desprovidos apel 1958 mazont ferreira_DATA_JULGAMENTO_ acordao reconhece seguradora passiva legitima destacando pedido formulado indenizacao base seguro habitacional cuidando danos ocorridos imovel acolhimento atingira seguradora principio assumiu responsabilidade pagamento indenizacao _folha_ descrevendo cobertura constante apolice parcialmente provido restringir montante multa indenizacao securitaria superior_tribunal_justica turma ante exposto nega provimento recursos"
          }
        },
        "b7176f139a774e0b8a834b3f9cdceef8": {
          "model_module": "@jupyter-widgets/base",
          "model_name": "LayoutModel",
          "model_module_version": "1.2.0",
          "state": {
            "_model_module": "@jupyter-widgets/base",
            "_model_module_version": "1.2.0",
            "_model_name": "LayoutModel",
            "_view_count": null,
            "_view_module": "@jupyter-widgets/base",
            "_view_module_version": "1.2.0",
            "_view_name": "LayoutView",
            "align_content": null,
            "align_items": null,
            "align_self": null,
            "border": null,
            "bottom": null,
            "display": null,
            "flex": null,
            "flex_flow": null,
            "grid_area": null,
            "grid_auto_columns": null,
            "grid_auto_flow": null,
            "grid_auto_rows": null,
            "grid_column": null,
            "grid_gap": null,
            "grid_row": null,
            "grid_template_areas": null,
            "grid_template_columns": null,
            "grid_template_rows": null,
            "height": null,
            "justify_content": null,
            "justify_items": null,
            "left": null,
            "margin": null,
            "max_height": null,
            "max_width": null,
            "min_height": null,
            "min_width": null,
            "object_fit": null,
            "object_position": null,
            "order": null,
            "overflow": null,
            "overflow_x": null,
            "overflow_y": null,
            "padding": null,
            "right": null,
            "top": null,
            "visibility": null,
            "width": null
          }
        },
        "f8e111bf6af24792816487bb26eae7b7": {
          "model_module": "@jupyter-widgets/base",
          "model_name": "LayoutModel",
          "model_module_version": "1.2.0",
          "state": {
            "_model_module": "@jupyter-widgets/base",
            "_model_module_version": "1.2.0",
            "_model_name": "LayoutModel",
            "_view_count": null,
            "_view_module": "@jupyter-widgets/base",
            "_view_module_version": "1.2.0",
            "_view_name": "LayoutView",
            "align_content": null,
            "align_items": null,
            "align_self": null,
            "border": null,
            "bottom": null,
            "display": null,
            "flex": null,
            "flex_flow": null,
            "grid_area": null,
            "grid_auto_columns": null,
            "grid_auto_flow": null,
            "grid_auto_rows": null,
            "grid_column": null,
            "grid_gap": null,
            "grid_row": null,
            "grid_template_areas": null,
            "grid_template_columns": null,
            "grid_template_rows": null,
            "height": "600px",
            "justify_content": null,
            "justify_items": null,
            "left": null,
            "margin": null,
            "max_height": null,
            "max_width": null,
            "min_height": null,
            "min_width": null,
            "object_fit": null,
            "object_position": null,
            "order": null,
            "overflow": null,
            "overflow_x": null,
            "overflow_y": null,
            "padding": null,
            "right": null,
            "top": null,
            "visibility": null,
            "width": "550px"
          }
        },
        "a33577ede516409c9e4a911a553e549f": {
          "model_module": "@jupyter-widgets/controls",
          "model_name": "DescriptionStyleModel",
          "model_module_version": "1.5.0",
          "state": {
            "_model_module": "@jupyter-widgets/controls",
            "_model_module_version": "1.5.0",
            "_model_name": "DescriptionStyleModel",
            "_view_count": null,
            "_view_module": "@jupyter-widgets/base",
            "_view_module_version": "1.2.0",
            "_view_name": "StyleView",
            "description_width": ""
          }
        },
        "f3687ea1fda741839a327708afece1e0": {
          "model_module": "@jupyter-widgets/controls",
          "model_name": "DescriptionStyleModel",
          "model_module_version": "1.5.0",
          "state": {
            "_model_module": "@jupyter-widgets/controls",
            "_model_module_version": "1.5.0",
            "_model_name": "DescriptionStyleModel",
            "_view_count": null,
            "_view_module": "@jupyter-widgets/base",
            "_view_module_version": "1.2.0",
            "_view_name": "StyleView",
            "description_width": ""
          }
        }
      }
    }
  },
  "cells": [
    {
      "cell_type": "markdown",
      "metadata": {
        "id": "view-in-github",
        "colab_type": "text"
      },
      "source": [
        "<a href=\"https://colab.research.google.com/github/GiliardGodoi/tj-datasets/blob/main/notebooks/preprocessamento/2024_04_30_Segmentado_e_Normalizado.ipynb\" target=\"_parent\"><img src=\"https://colab.research.google.com/assets/colab-badge.svg\" alt=\"Open In Colab\"/></a>"
      ]
    },
    {
      "cell_type": "code",
      "execution_count": null,
      "metadata": {
        "colab": {
          "base_uri": "https://localhost:8080/"
        },
        "id": "Ml-39Wsh1AX7",
        "outputId": "54e9917a-3a1d-41b8-f870-358a9910bbe9"
      },
      "outputs": [
        {
          "output_type": "stream",
          "name": "stdout",
          "text": [
            "Mounted at /content/drive\n"
          ]
        }
      ],
      "source": [
        "from google.colab import drive, userdata\n",
        "drive.mount('/content/drive')"
      ]
    },
    {
      "cell_type": "code",
      "source": [
        "!pip install \"tjdatasets @ git+https://github.com/GiliardGodoi/tj-datasets@april-24\""
      ],
      "metadata": {
        "colab": {
          "base_uri": "https://localhost:8080/"
        },
        "id": "mEgpDx0B1NDK",
        "outputId": "c50683c3-73a2-4005-92f4-29084cbc26c4"
      },
      "execution_count": null,
      "outputs": [
        {
          "output_type": "stream",
          "name": "stdout",
          "text": [
            "Collecting tjdatasets@ git+https://github.com/GiliardGodoi/tj-datasets@april-24\n",
            "  Cloning https://github.com/GiliardGodoi/tj-datasets (to revision april-24) to /tmp/pip-install-fmckyh0z/tjdatasets_51e34c009d324b6888674c50c5027a1a\n",
            "  Running command git clone --filter=blob:none --quiet https://github.com/GiliardGodoi/tj-datasets /tmp/pip-install-fmckyh0z/tjdatasets_51e34c009d324b6888674c50c5027a1a\n",
            "  Running command git checkout -b april-24 --track origin/april-24\n",
            "  Switched to a new branch 'april-24'\n",
            "  Branch 'april-24' set up to track remote branch 'april-24' from 'origin'.\n",
            "  Resolved https://github.com/GiliardGodoi/tj-datasets to commit eede31ef99c60a46d1ff7a586f9ef436fefe4320\n",
            "  Installing build dependencies ... \u001b[?25l\u001b[?25hdone\n",
            "  Getting requirements to build wheel ... \u001b[?25l\u001b[?25hdone\n",
            "  Installing backend dependencies ... \u001b[?25l\u001b[?25hdone\n",
            "  Preparing metadata (pyproject.toml) ... \u001b[?25l\u001b[?25hdone\n",
            "Requirement already satisfied: pandas in /usr/local/lib/python3.10/dist-packages (from tjdatasets@ git+https://github.com/GiliardGodoi/tj-datasets@april-24) (2.0.3)\n",
            "Requirement already satisfied: scikit-learn in /usr/local/lib/python3.10/dist-packages (from tjdatasets@ git+https://github.com/GiliardGodoi/tj-datasets@april-24) (1.2.2)\n",
            "Requirement already satisfied: nltk in /usr/local/lib/python3.10/dist-packages (from tjdatasets@ git+https://github.com/GiliardGodoi/tj-datasets@april-24) (3.8.1)\n",
            "Requirement already satisfied: spacy in /usr/local/lib/python3.10/dist-packages (from tjdatasets@ git+https://github.com/GiliardGodoi/tj-datasets@april-24) (3.7.4)\n",
            "Requirement already satisfied: click in /usr/local/lib/python3.10/dist-packages (from nltk->tjdatasets@ git+https://github.com/GiliardGodoi/tj-datasets@april-24) (8.1.7)\n",
            "Requirement already satisfied: joblib in /usr/local/lib/python3.10/dist-packages (from nltk->tjdatasets@ git+https://github.com/GiliardGodoi/tj-datasets@april-24) (1.4.0)\n",
            "Requirement already satisfied: regex>=2021.8.3 in /usr/local/lib/python3.10/dist-packages (from nltk->tjdatasets@ git+https://github.com/GiliardGodoi/tj-datasets@april-24) (2023.12.25)\n",
            "Requirement already satisfied: tqdm in /usr/local/lib/python3.10/dist-packages (from nltk->tjdatasets@ git+https://github.com/GiliardGodoi/tj-datasets@april-24) (4.66.2)\n",
            "Requirement already satisfied: python-dateutil>=2.8.2 in /usr/local/lib/python3.10/dist-packages (from pandas->tjdatasets@ git+https://github.com/GiliardGodoi/tj-datasets@april-24) (2.8.2)\n",
            "Requirement already satisfied: pytz>=2020.1 in /usr/local/lib/python3.10/dist-packages (from pandas->tjdatasets@ git+https://github.com/GiliardGodoi/tj-datasets@april-24) (2023.4)\n",
            "Requirement already satisfied: tzdata>=2022.1 in /usr/local/lib/python3.10/dist-packages (from pandas->tjdatasets@ git+https://github.com/GiliardGodoi/tj-datasets@april-24) (2024.1)\n",
            "Requirement already satisfied: numpy>=1.21.0 in /usr/local/lib/python3.10/dist-packages (from pandas->tjdatasets@ git+https://github.com/GiliardGodoi/tj-datasets@april-24) (1.25.2)\n",
            "Requirement already satisfied: scipy>=1.3.2 in /usr/local/lib/python3.10/dist-packages (from scikit-learn->tjdatasets@ git+https://github.com/GiliardGodoi/tj-datasets@april-24) (1.11.4)\n",
            "Requirement already satisfied: threadpoolctl>=2.0.0 in /usr/local/lib/python3.10/dist-packages (from scikit-learn->tjdatasets@ git+https://github.com/GiliardGodoi/tj-datasets@april-24) (3.4.0)\n",
            "Requirement already satisfied: spacy-legacy<3.1.0,>=3.0.11 in /usr/local/lib/python3.10/dist-packages (from spacy->tjdatasets@ git+https://github.com/GiliardGodoi/tj-datasets@april-24) (3.0.12)\n",
            "Requirement already satisfied: spacy-loggers<2.0.0,>=1.0.0 in /usr/local/lib/python3.10/dist-packages (from spacy->tjdatasets@ git+https://github.com/GiliardGodoi/tj-datasets@april-24) (1.0.5)\n",
            "Requirement already satisfied: murmurhash<1.1.0,>=0.28.0 in /usr/local/lib/python3.10/dist-packages (from spacy->tjdatasets@ git+https://github.com/GiliardGodoi/tj-datasets@april-24) (1.0.10)\n",
            "Requirement already satisfied: cymem<2.1.0,>=2.0.2 in /usr/local/lib/python3.10/dist-packages (from spacy->tjdatasets@ git+https://github.com/GiliardGodoi/tj-datasets@april-24) (2.0.8)\n",
            "Requirement already satisfied: preshed<3.1.0,>=3.0.2 in /usr/local/lib/python3.10/dist-packages (from spacy->tjdatasets@ git+https://github.com/GiliardGodoi/tj-datasets@april-24) (3.0.9)\n",
            "Requirement already satisfied: thinc<8.3.0,>=8.2.2 in /usr/local/lib/python3.10/dist-packages (from spacy->tjdatasets@ git+https://github.com/GiliardGodoi/tj-datasets@april-24) (8.2.3)\n",
            "Requirement already satisfied: wasabi<1.2.0,>=0.9.1 in /usr/local/lib/python3.10/dist-packages (from spacy->tjdatasets@ git+https://github.com/GiliardGodoi/tj-datasets@april-24) (1.1.2)\n",
            "Requirement already satisfied: srsly<3.0.0,>=2.4.3 in /usr/local/lib/python3.10/dist-packages (from spacy->tjdatasets@ git+https://github.com/GiliardGodoi/tj-datasets@april-24) (2.4.8)\n",
            "Requirement already satisfied: catalogue<2.1.0,>=2.0.6 in /usr/local/lib/python3.10/dist-packages (from spacy->tjdatasets@ git+https://github.com/GiliardGodoi/tj-datasets@april-24) (2.0.10)\n",
            "Requirement already satisfied: weasel<0.4.0,>=0.1.0 in /usr/local/lib/python3.10/dist-packages (from spacy->tjdatasets@ git+https://github.com/GiliardGodoi/tj-datasets@april-24) (0.3.4)\n",
            "Requirement already satisfied: typer<0.10.0,>=0.3.0 in /usr/local/lib/python3.10/dist-packages (from spacy->tjdatasets@ git+https://github.com/GiliardGodoi/tj-datasets@april-24) (0.9.4)\n",
            "Requirement already satisfied: smart-open<7.0.0,>=5.2.1 in /usr/local/lib/python3.10/dist-packages (from spacy->tjdatasets@ git+https://github.com/GiliardGodoi/tj-datasets@april-24) (6.4.0)\n",
            "Requirement already satisfied: requests<3.0.0,>=2.13.0 in /usr/local/lib/python3.10/dist-packages (from spacy->tjdatasets@ git+https://github.com/GiliardGodoi/tj-datasets@april-24) (2.31.0)\n",
            "Requirement already satisfied: pydantic!=1.8,!=1.8.1,<3.0.0,>=1.7.4 in /usr/local/lib/python3.10/dist-packages (from spacy->tjdatasets@ git+https://github.com/GiliardGodoi/tj-datasets@april-24) (2.7.1)\n",
            "Requirement already satisfied: jinja2 in /usr/local/lib/python3.10/dist-packages (from spacy->tjdatasets@ git+https://github.com/GiliardGodoi/tj-datasets@april-24) (3.1.3)\n",
            "Requirement already satisfied: setuptools in /usr/local/lib/python3.10/dist-packages (from spacy->tjdatasets@ git+https://github.com/GiliardGodoi/tj-datasets@april-24) (67.7.2)\n",
            "Requirement already satisfied: packaging>=20.0 in /usr/local/lib/python3.10/dist-packages (from spacy->tjdatasets@ git+https://github.com/GiliardGodoi/tj-datasets@april-24) (24.0)\n",
            "Requirement already satisfied: langcodes<4.0.0,>=3.2.0 in /usr/local/lib/python3.10/dist-packages (from spacy->tjdatasets@ git+https://github.com/GiliardGodoi/tj-datasets@april-24) (3.4.0)\n",
            "Requirement already satisfied: language-data>=1.2 in /usr/local/lib/python3.10/dist-packages (from langcodes<4.0.0,>=3.2.0->spacy->tjdatasets@ git+https://github.com/GiliardGodoi/tj-datasets@april-24) (1.2.0)\n",
            "Requirement already satisfied: annotated-types>=0.4.0 in /usr/local/lib/python3.10/dist-packages (from pydantic!=1.8,!=1.8.1,<3.0.0,>=1.7.4->spacy->tjdatasets@ git+https://github.com/GiliardGodoi/tj-datasets@april-24) (0.6.0)\n",
            "Requirement already satisfied: pydantic-core==2.18.2 in /usr/local/lib/python3.10/dist-packages (from pydantic!=1.8,!=1.8.1,<3.0.0,>=1.7.4->spacy->tjdatasets@ git+https://github.com/GiliardGodoi/tj-datasets@april-24) (2.18.2)\n",
            "Requirement already satisfied: typing-extensions>=4.6.1 in /usr/local/lib/python3.10/dist-packages (from pydantic!=1.8,!=1.8.1,<3.0.0,>=1.7.4->spacy->tjdatasets@ git+https://github.com/GiliardGodoi/tj-datasets@april-24) (4.11.0)\n",
            "Requirement already satisfied: six>=1.5 in /usr/local/lib/python3.10/dist-packages (from python-dateutil>=2.8.2->pandas->tjdatasets@ git+https://github.com/GiliardGodoi/tj-datasets@april-24) (1.16.0)\n",
            "Requirement already satisfied: charset-normalizer<4,>=2 in /usr/local/lib/python3.10/dist-packages (from requests<3.0.0,>=2.13.0->spacy->tjdatasets@ git+https://github.com/GiliardGodoi/tj-datasets@april-24) (3.3.2)\n",
            "Requirement already satisfied: idna<4,>=2.5 in /usr/local/lib/python3.10/dist-packages (from requests<3.0.0,>=2.13.0->spacy->tjdatasets@ git+https://github.com/GiliardGodoi/tj-datasets@april-24) (3.7)\n",
            "Requirement already satisfied: urllib3<3,>=1.21.1 in /usr/local/lib/python3.10/dist-packages (from requests<3.0.0,>=2.13.0->spacy->tjdatasets@ git+https://github.com/GiliardGodoi/tj-datasets@april-24) (2.0.7)\n",
            "Requirement already satisfied: certifi>=2017.4.17 in /usr/local/lib/python3.10/dist-packages (from requests<3.0.0,>=2.13.0->spacy->tjdatasets@ git+https://github.com/GiliardGodoi/tj-datasets@april-24) (2024.2.2)\n",
            "Requirement already satisfied: blis<0.8.0,>=0.7.8 in /usr/local/lib/python3.10/dist-packages (from thinc<8.3.0,>=8.2.2->spacy->tjdatasets@ git+https://github.com/GiliardGodoi/tj-datasets@april-24) (0.7.11)\n",
            "Requirement already satisfied: confection<1.0.0,>=0.0.1 in /usr/local/lib/python3.10/dist-packages (from thinc<8.3.0,>=8.2.2->spacy->tjdatasets@ git+https://github.com/GiliardGodoi/tj-datasets@april-24) (0.1.4)\n",
            "Requirement already satisfied: cloudpathlib<0.17.0,>=0.7.0 in /usr/local/lib/python3.10/dist-packages (from weasel<0.4.0,>=0.1.0->spacy->tjdatasets@ git+https://github.com/GiliardGodoi/tj-datasets@april-24) (0.16.0)\n",
            "Requirement already satisfied: MarkupSafe>=2.0 in /usr/local/lib/python3.10/dist-packages (from jinja2->spacy->tjdatasets@ git+https://github.com/GiliardGodoi/tj-datasets@april-24) (2.1.5)\n",
            "Requirement already satisfied: marisa-trie>=0.7.7 in /usr/local/lib/python3.10/dist-packages (from language-data>=1.2->langcodes<4.0.0,>=3.2.0->spacy->tjdatasets@ git+https://github.com/GiliardGodoi/tj-datasets@april-24) (1.1.0)\n",
            "Building wheels for collected packages: tjdatasets\n",
            "  Building wheel for tjdatasets (pyproject.toml) ... \u001b[?25l\u001b[?25hdone\n",
            "  Created wheel for tjdatasets: filename=tjdatasets-0.0.3-py3-none-any.whl size=18453 sha256=63cd52a14117ab2860413f2b39f60d08aa391c6c7d74e46556f6c5149edbb87a\n",
            "  Stored in directory: /tmp/pip-ephem-wheel-cache-mzlxdx9_/wheels/e2/dc/91/364cd92e901385d942374d0a97efed80d772c4cb07b326980b\n",
            "Successfully built tjdatasets\n",
            "Installing collected packages: tjdatasets\n",
            "Successfully installed tjdatasets-0.0.3\n"
          ]
        }
      ]
    },
    {
      "cell_type": "code",
      "source": [
        "import pandas as pd\n",
        "import re\n",
        "\n",
        "from pathlib import Path"
      ],
      "metadata": {
        "id": "Qvg2BCxA1NAv"
      },
      "execution_count": null,
      "outputs": []
    },
    {
      "cell_type": "code",
      "source": [
        "from tjdatasets.pipe import (\n",
        "    PreProcessamentoLimpo,\n",
        "    PreProcessamentoNormalizado\n",
        ")"
      ],
      "metadata": {
        "colab": {
          "base_uri": "https://localhost:8080/"
        },
        "id": "KCUgWDT73yK4",
        "outputId": "a353db49-a49c-4086-e019-f2719e66e193"
      },
      "execution_count": null,
      "outputs": [
        {
          "output_type": "stream",
          "name": "stderr",
          "text": [
            "[nltk_data] Downloading package punkt to /root/nltk_data...\n",
            "[nltk_data]   Unzipping tokenizers/punkt.zip.\n",
            "[nltk_data] Downloading package rslp to /root/nltk_data...\n",
            "[nltk_data]   Unzipping stemmers/rslp.zip.\n",
            "[nltk_data] Downloading package stopwords to /root/nltk_data...\n",
            "[nltk_data]   Unzipping corpora/stopwords.zip.\n"
          ]
        }
      ]
    },
    {
      "cell_type": "markdown",
      "source": [
        "## Configurações"
      ],
      "metadata": {
        "id": "XSyT7LiU3y7n"
      }
    },
    {
      "cell_type": "code",
      "source": [
        "BASE_FOLDER = Path(\"/content/drive/Shareddrives/Projeto_TJSP_Datasets/Datasets/base_abril_2024/PREPROCESSED\")\n",
        "\n",
        "base_33k_filepath = BASE_FOLDER / \"acordaos_principais_33k_Segmentado.parquet.gzip\"\n",
        "base_40k_filepath = BASE_FOLDER / \"acordaos_principais_40k_Segmentado.parquet.gzip\"\n",
        "\n",
        "assert base_33k_filepath.exists()\n",
        "assert base_40k_filepath.exists()"
      ],
      "metadata": {
        "id": "YYyZqvKU1M9Q"
      },
      "execution_count": null,
      "outputs": []
    },
    {
      "cell_type": "code",
      "source": [
        "SEGMENTOS_NAMES = [\n",
        "    'segmento_lei',\n",
        "    'segmento_fato',\n",
        "    'segmento_decisao',\n",
        "    'segmento_pedido'\n",
        "]\n",
        "\n",
        "columns = [\n",
        "        'numero_processo',\n",
        "        'id_documento',\n",
        "        'data_hora_documento',\n",
        "        'codigos_movimentos_temas',\n",
        "    ]"
      ],
      "metadata": {
        "id": "IMyerA0Z1ppw"
      },
      "execution_count": null,
      "outputs": []
    },
    {
      "cell_type": "code",
      "source": [
        "for filepath in [base_33k_filepath, base_40k_filepath]:\n",
        "    print('Processando...', filepath.name)\n",
        "\n",
        "    df = pd.read_parquet(filepath)\n",
        "    print('Lido...', df.shape)\n",
        "    print(df.columns)\n",
        "\n",
        "    frame = df[columns].copy()\n",
        "    print('- - - - - - - - - - - - - - - - - - - - - - - - - - - - - - - - - - - ')\n",
        "    for segmento in SEGMENTOS_NAMES:\n",
        "        print('\\tNormalizando...', segmento)\n",
        "        normalizado = PreProcessamentoNormalizado(column_text=segmento)\n",
        "        frame[segmento] = normalizado.transform(df)\n",
        "\n",
        "    filename = str.replace(filepath.name, 'Segmentado.parquet', 'Segmentado_Normalizado.parquet')\n",
        "    print('\\tSalvando em...', filename)\n",
        "    dest = BASE_FOLDER / filename\n",
        "    frame.to_parquet(dest, compression='gzip')\n",
        "    print('\\tSalvo!')\n",
        "    print()\n"
      ],
      "metadata": {
        "colab": {
          "base_uri": "https://localhost:8080/"
        },
        "id": "jLh0sVxk1pg5",
        "outputId": "257b6f13-7876-4e3c-a4b1-b51f8e70c2f1"
      },
      "execution_count": null,
      "outputs": [
        {
          "output_type": "stream",
          "name": "stdout",
          "text": [
            "Processando... acordaos_principais_33k_Segmentado.parquet.gzip\n",
            "Lido... (33016, 8)\n",
            "Index(['numero_processo', 'id_documento', 'data_hora_documento',\n",
            "       'codigos_movimentos_temas', 'segmento_lei', 'segmento_fato',\n",
            "       'segmento_decisao', 'segmento_pedido'],\n",
            "      dtype='object')\n",
            "- - - - - - - - - - - - - - - - - - - - - - - - - - - - - - - - - - - \n",
            "\tNormalizando... segmento_lei\n",
            "\tNormalizando... segmento_fato\n",
            "\tNormalizando... segmento_decisao\n",
            "\tNormalizando... segmento_pedido\n",
            "\tSalvando em... acordaos_principais_33k_Segmentado_Normalizado.parquet.gzip\n",
            "\tSalvo!\n",
            "\n",
            "Processando... acordaos_principais_40k_Segmentado.parquet.gzip\n",
            "Lido... (41374, 8)\n",
            "Index(['numero_processo', 'id_documento', 'data_hora_documento',\n",
            "       'codigos_movimentos_temas', 'segmento_lei', 'segmento_fato',\n",
            "       'segmento_decisao', 'segmento_pedido'],\n",
            "      dtype='object')\n",
            "- - - - - - - - - - - - - - - - - - - - - - - - - - - - - - - - - - - \n",
            "\tNormalizando... segmento_lei\n",
            "\tNormalizando... segmento_fato\n",
            "\tNormalizando... segmento_decisao\n",
            "\tNormalizando... segmento_pedido\n",
            "\tSalvando em... acordaos_principais_40k_Segmentado_Normalizado.parquet.gzip\n",
            "\tSalvo!\n",
            "\n"
          ]
        }
      ]
    },
    {
      "cell_type": "code",
      "source": [
        "df = pd.read_parquet(BASE_FOLDER / \"acordaos_principais_33k_Segmentado_Normalizado.parquet.gzip\")\n",
        "\n",
        "df.info()"
      ],
      "metadata": {
        "id": "A3P-3chO4wwd",
        "colab": {
          "base_uri": "https://localhost:8080/"
        },
        "outputId": "01332bad-6604-4ec4-c364-56f9e83f0c42"
      },
      "execution_count": null,
      "outputs": [
        {
          "output_type": "stream",
          "name": "stdout",
          "text": [
            "<class 'pandas.core.frame.DataFrame'>\n",
            "RangeIndex: 33016 entries, 0 to 33015\n",
            "Data columns (total 8 columns):\n",
            " #   Column                    Non-Null Count  Dtype   \n",
            "---  ------                    --------------  -----   \n",
            " 0   numero_processo           33016 non-null  category\n",
            " 1   id_documento              33016 non-null  category\n",
            " 2   data_hora_documento       33016 non-null  object  \n",
            " 3   codigos_movimentos_temas  33016 non-null  string  \n",
            " 4   segmento_lei              33016 non-null  object  \n",
            " 5   segmento_fato             33016 non-null  object  \n",
            " 6   segmento_decisao          33016 non-null  object  \n",
            " 7   segmento_pedido           33016 non-null  object  \n",
            "dtypes: category(2), object(5), string(1)\n",
            "memory usage: 4.3+ MB\n"
          ]
        }
      ]
    },
    {
      "cell_type": "code",
      "source": [
        "df.head()"
      ],
      "metadata": {
        "colab": {
          "base_uri": "https://localhost:8080/",
          "height": 379
        },
        "id": "mjZxR2aU0f4x",
        "outputId": "1310842b-aa60-4b66-9b7b-f36b0485b5b1"
      },
      "execution_count": null,
      "outputs": [
        {
          "output_type": "execute_result",
          "data": {
            "text/plain": [
              "        numero_processo   id_documento data_hora_documento  \\\n",
              "0  10042442520168260541   54994081 - 0          2018-07-17   \n",
              "1  00272971919988260562   42752474 - 0          2017-07-31   \n",
              "2  21140481120188260000   57226790 - 0          2018-09-18   \n",
              "3  20924950520188260000  110484386 - 0          2021-11-21   \n",
              "4  10130665020148260451   82218470 - 0          2020-07-18   \n",
              "\n",
              "  codigos_movimentos_temas                                       segmento_lei  \\\n",
              "0                    85714  carlos alberto lopes assinatura eletronica cad...   \n",
              "1                    85721  trata apelacao interposto autos acao indenizac...   \n",
              "2              85471;85714  carlos alberto lopes assinatura eletronica _nu...   \n",
              "3                    85738  agravo instrumento expurgos inflacionarios aca...   \n",
              "4              85609;85738  trata recursos apelacao interpostos sentenca a...   \n",
              "\n",
              "                                       segmento_fato  \\\n",
              "0  artigos _numero_ _numero_ codigo_defesa_consum...   \n",
              "1  pericia realizada unidade habitacional confirm...   \n",
              "2  carlos alberto lopes assinatura eletronica _nu...   \n",
              "3  agravo instrumento expurgos inflacionarios aca...   \n",
              "4  apelacao expurgos inflacionarios acao_civil_pu...   \n",
              "\n",
              "                                    segmento_decisao  \\\n",
              "0  acordam camara privado justica sao_paulo profe...   \n",
              "1  acordam camara privado justica sao_paulo profe...   \n",
              "2  acordam camara privado justica sao_paulo profe...   \n",
              "3  acordam sessao permanente virtual camara priva...   \n",
              "4  acordam sessao permanente virtual camara priva...   \n",
              "\n",
              "                                     segmento_pedido  \n",
              "0  efeitos artigo_543c codigo processo civl fixad...  \n",
              "1  pedido pagamento indenizacao seguradora suspen...  \n",
              "2                                                     \n",
              "3  joao batista vilhena assinatura eletronica agr...  \n",
              "4  tange alegada incompetencia juizo tramite pedi...  "
            ],
            "text/html": [
              "\n",
              "  <div id=\"df-b0223c2d-4b84-4d8b-8104-4cc5126e5dcc\" class=\"colab-df-container\">\n",
              "    <div>\n",
              "<style scoped>\n",
              "    .dataframe tbody tr th:only-of-type {\n",
              "        vertical-align: middle;\n",
              "    }\n",
              "\n",
              "    .dataframe tbody tr th {\n",
              "        vertical-align: top;\n",
              "    }\n",
              "\n",
              "    .dataframe thead th {\n",
              "        text-align: right;\n",
              "    }\n",
              "</style>\n",
              "<table border=\"1\" class=\"dataframe\">\n",
              "  <thead>\n",
              "    <tr style=\"text-align: right;\">\n",
              "      <th></th>\n",
              "      <th>numero_processo</th>\n",
              "      <th>id_documento</th>\n",
              "      <th>data_hora_documento</th>\n",
              "      <th>codigos_movimentos_temas</th>\n",
              "      <th>segmento_lei</th>\n",
              "      <th>segmento_fato</th>\n",
              "      <th>segmento_decisao</th>\n",
              "      <th>segmento_pedido</th>\n",
              "    </tr>\n",
              "  </thead>\n",
              "  <tbody>\n",
              "    <tr>\n",
              "      <th>0</th>\n",
              "      <td>10042442520168260541</td>\n",
              "      <td>54994081 - 0</td>\n",
              "      <td>2018-07-17</td>\n",
              "      <td>85714</td>\n",
              "      <td>carlos alberto lopes assinatura eletronica cad...</td>\n",
              "      <td>artigos _numero_ _numero_ codigo_defesa_consum...</td>\n",
              "      <td>acordam camara privado justica sao_paulo profe...</td>\n",
              "      <td>efeitos artigo_543c codigo processo civl fixad...</td>\n",
              "    </tr>\n",
              "    <tr>\n",
              "      <th>1</th>\n",
              "      <td>00272971919988260562</td>\n",
              "      <td>42752474 - 0</td>\n",
              "      <td>2017-07-31</td>\n",
              "      <td>85721</td>\n",
              "      <td>trata apelacao interposto autos acao indenizac...</td>\n",
              "      <td>pericia realizada unidade habitacional confirm...</td>\n",
              "      <td>acordam camara privado justica sao_paulo profe...</td>\n",
              "      <td>pedido pagamento indenizacao seguradora suspen...</td>\n",
              "    </tr>\n",
              "    <tr>\n",
              "      <th>2</th>\n",
              "      <td>21140481120188260000</td>\n",
              "      <td>57226790 - 0</td>\n",
              "      <td>2018-09-18</td>\n",
              "      <td>85471;85714</td>\n",
              "      <td>carlos alberto lopes assinatura eletronica _nu...</td>\n",
              "      <td>carlos alberto lopes assinatura eletronica _nu...</td>\n",
              "      <td>acordam camara privado justica sao_paulo profe...</td>\n",
              "      <td></td>\n",
              "    </tr>\n",
              "    <tr>\n",
              "      <th>3</th>\n",
              "      <td>20924950520188260000</td>\n",
              "      <td>110484386 - 0</td>\n",
              "      <td>2021-11-21</td>\n",
              "      <td>85738</td>\n",
              "      <td>agravo instrumento expurgos inflacionarios aca...</td>\n",
              "      <td>agravo instrumento expurgos inflacionarios aca...</td>\n",
              "      <td>acordam sessao permanente virtual camara priva...</td>\n",
              "      <td>joao batista vilhena assinatura eletronica agr...</td>\n",
              "    </tr>\n",
              "    <tr>\n",
              "      <th>4</th>\n",
              "      <td>10130665020148260451</td>\n",
              "      <td>82218470 - 0</td>\n",
              "      <td>2020-07-18</td>\n",
              "      <td>85609;85738</td>\n",
              "      <td>trata recursos apelacao interpostos sentenca a...</td>\n",
              "      <td>apelacao expurgos inflacionarios acao_civil_pu...</td>\n",
              "      <td>acordam sessao permanente virtual camara priva...</td>\n",
              "      <td>tange alegada incompetencia juizo tramite pedi...</td>\n",
              "    </tr>\n",
              "  </tbody>\n",
              "</table>\n",
              "</div>\n",
              "    <div class=\"colab-df-buttons\">\n",
              "\n",
              "  <div class=\"colab-df-container\">\n",
              "    <button class=\"colab-df-convert\" onclick=\"convertToInteractive('df-b0223c2d-4b84-4d8b-8104-4cc5126e5dcc')\"\n",
              "            title=\"Convert this dataframe to an interactive table.\"\n",
              "            style=\"display:none;\">\n",
              "\n",
              "  <svg xmlns=\"http://www.w3.org/2000/svg\" height=\"24px\" viewBox=\"0 -960 960 960\">\n",
              "    <path d=\"M120-120v-720h720v720H120Zm60-500h600v-160H180v160Zm220 220h160v-160H400v160Zm0 220h160v-160H400v160ZM180-400h160v-160H180v160Zm440 0h160v-160H620v160ZM180-180h160v-160H180v160Zm440 0h160v-160H620v160Z\"/>\n",
              "  </svg>\n",
              "    </button>\n",
              "\n",
              "  <style>\n",
              "    .colab-df-container {\n",
              "      display:flex;\n",
              "      gap: 12px;\n",
              "    }\n",
              "\n",
              "    .colab-df-convert {\n",
              "      background-color: #E8F0FE;\n",
              "      border: none;\n",
              "      border-radius: 50%;\n",
              "      cursor: pointer;\n",
              "      display: none;\n",
              "      fill: #1967D2;\n",
              "      height: 32px;\n",
              "      padding: 0 0 0 0;\n",
              "      width: 32px;\n",
              "    }\n",
              "\n",
              "    .colab-df-convert:hover {\n",
              "      background-color: #E2EBFA;\n",
              "      box-shadow: 0px 1px 2px rgba(60, 64, 67, 0.3), 0px 1px 3px 1px rgba(60, 64, 67, 0.15);\n",
              "      fill: #174EA6;\n",
              "    }\n",
              "\n",
              "    .colab-df-buttons div {\n",
              "      margin-bottom: 4px;\n",
              "    }\n",
              "\n",
              "    [theme=dark] .colab-df-convert {\n",
              "      background-color: #3B4455;\n",
              "      fill: #D2E3FC;\n",
              "    }\n",
              "\n",
              "    [theme=dark] .colab-df-convert:hover {\n",
              "      background-color: #434B5C;\n",
              "      box-shadow: 0px 1px 3px 1px rgba(0, 0, 0, 0.15);\n",
              "      filter: drop-shadow(0px 1px 2px rgba(0, 0, 0, 0.3));\n",
              "      fill: #FFFFFF;\n",
              "    }\n",
              "  </style>\n",
              "\n",
              "    <script>\n",
              "      const buttonEl =\n",
              "        document.querySelector('#df-b0223c2d-4b84-4d8b-8104-4cc5126e5dcc button.colab-df-convert');\n",
              "      buttonEl.style.display =\n",
              "        google.colab.kernel.accessAllowed ? 'block' : 'none';\n",
              "\n",
              "      async function convertToInteractive(key) {\n",
              "        const element = document.querySelector('#df-b0223c2d-4b84-4d8b-8104-4cc5126e5dcc');\n",
              "        const dataTable =\n",
              "          await google.colab.kernel.invokeFunction('convertToInteractive',\n",
              "                                                    [key], {});\n",
              "        if (!dataTable) return;\n",
              "\n",
              "        const docLinkHtml = 'Like what you see? Visit the ' +\n",
              "          '<a target=\"_blank\" href=https://colab.research.google.com/notebooks/data_table.ipynb>data table notebook</a>'\n",
              "          + ' to learn more about interactive tables.';\n",
              "        element.innerHTML = '';\n",
              "        dataTable['output_type'] = 'display_data';\n",
              "        await google.colab.output.renderOutput(dataTable, element);\n",
              "        const docLink = document.createElement('div');\n",
              "        docLink.innerHTML = docLinkHtml;\n",
              "        element.appendChild(docLink);\n",
              "      }\n",
              "    </script>\n",
              "  </div>\n",
              "\n",
              "\n",
              "<div id=\"df-a8bac1f2-94d1-4901-a7a4-c8790d8a62dc\">\n",
              "  <button class=\"colab-df-quickchart\" onclick=\"quickchart('df-a8bac1f2-94d1-4901-a7a4-c8790d8a62dc')\"\n",
              "            title=\"Suggest charts\"\n",
              "            style=\"display:none;\">\n",
              "\n",
              "<svg xmlns=\"http://www.w3.org/2000/svg\" height=\"24px\"viewBox=\"0 0 24 24\"\n",
              "     width=\"24px\">\n",
              "    <g>\n",
              "        <path d=\"M19 3H5c-1.1 0-2 .9-2 2v14c0 1.1.9 2 2 2h14c1.1 0 2-.9 2-2V5c0-1.1-.9-2-2-2zM9 17H7v-7h2v7zm4 0h-2V7h2v10zm4 0h-2v-4h2v4z\"/>\n",
              "    </g>\n",
              "</svg>\n",
              "  </button>\n",
              "\n",
              "<style>\n",
              "  .colab-df-quickchart {\n",
              "      --bg-color: #E8F0FE;\n",
              "      --fill-color: #1967D2;\n",
              "      --hover-bg-color: #E2EBFA;\n",
              "      --hover-fill-color: #174EA6;\n",
              "      --disabled-fill-color: #AAA;\n",
              "      --disabled-bg-color: #DDD;\n",
              "  }\n",
              "\n",
              "  [theme=dark] .colab-df-quickchart {\n",
              "      --bg-color: #3B4455;\n",
              "      --fill-color: #D2E3FC;\n",
              "      --hover-bg-color: #434B5C;\n",
              "      --hover-fill-color: #FFFFFF;\n",
              "      --disabled-bg-color: #3B4455;\n",
              "      --disabled-fill-color: #666;\n",
              "  }\n",
              "\n",
              "  .colab-df-quickchart {\n",
              "    background-color: var(--bg-color);\n",
              "    border: none;\n",
              "    border-radius: 50%;\n",
              "    cursor: pointer;\n",
              "    display: none;\n",
              "    fill: var(--fill-color);\n",
              "    height: 32px;\n",
              "    padding: 0;\n",
              "    width: 32px;\n",
              "  }\n",
              "\n",
              "  .colab-df-quickchart:hover {\n",
              "    background-color: var(--hover-bg-color);\n",
              "    box-shadow: 0 1px 2px rgba(60, 64, 67, 0.3), 0 1px 3px 1px rgba(60, 64, 67, 0.15);\n",
              "    fill: var(--button-hover-fill-color);\n",
              "  }\n",
              "\n",
              "  .colab-df-quickchart-complete:disabled,\n",
              "  .colab-df-quickchart-complete:disabled:hover {\n",
              "    background-color: var(--disabled-bg-color);\n",
              "    fill: var(--disabled-fill-color);\n",
              "    box-shadow: none;\n",
              "  }\n",
              "\n",
              "  .colab-df-spinner {\n",
              "    border: 2px solid var(--fill-color);\n",
              "    border-color: transparent;\n",
              "    border-bottom-color: var(--fill-color);\n",
              "    animation:\n",
              "      spin 1s steps(1) infinite;\n",
              "  }\n",
              "\n",
              "  @keyframes spin {\n",
              "    0% {\n",
              "      border-color: transparent;\n",
              "      border-bottom-color: var(--fill-color);\n",
              "      border-left-color: var(--fill-color);\n",
              "    }\n",
              "    20% {\n",
              "      border-color: transparent;\n",
              "      border-left-color: var(--fill-color);\n",
              "      border-top-color: var(--fill-color);\n",
              "    }\n",
              "    30% {\n",
              "      border-color: transparent;\n",
              "      border-left-color: var(--fill-color);\n",
              "      border-top-color: var(--fill-color);\n",
              "      border-right-color: var(--fill-color);\n",
              "    }\n",
              "    40% {\n",
              "      border-color: transparent;\n",
              "      border-right-color: var(--fill-color);\n",
              "      border-top-color: var(--fill-color);\n",
              "    }\n",
              "    60% {\n",
              "      border-color: transparent;\n",
              "      border-right-color: var(--fill-color);\n",
              "    }\n",
              "    80% {\n",
              "      border-color: transparent;\n",
              "      border-right-color: var(--fill-color);\n",
              "      border-bottom-color: var(--fill-color);\n",
              "    }\n",
              "    90% {\n",
              "      border-color: transparent;\n",
              "      border-bottom-color: var(--fill-color);\n",
              "    }\n",
              "  }\n",
              "</style>\n",
              "\n",
              "  <script>\n",
              "    async function quickchart(key) {\n",
              "      const quickchartButtonEl =\n",
              "        document.querySelector('#' + key + ' button');\n",
              "      quickchartButtonEl.disabled = true;  // To prevent multiple clicks.\n",
              "      quickchartButtonEl.classList.add('colab-df-spinner');\n",
              "      try {\n",
              "        const charts = await google.colab.kernel.invokeFunction(\n",
              "            'suggestCharts', [key], {});\n",
              "      } catch (error) {\n",
              "        console.error('Error during call to suggestCharts:', error);\n",
              "      }\n",
              "      quickchartButtonEl.classList.remove('colab-df-spinner');\n",
              "      quickchartButtonEl.classList.add('colab-df-quickchart-complete');\n",
              "    }\n",
              "    (() => {\n",
              "      let quickchartButtonEl =\n",
              "        document.querySelector('#df-a8bac1f2-94d1-4901-a7a4-c8790d8a62dc button');\n",
              "      quickchartButtonEl.style.display =\n",
              "        google.colab.kernel.accessAllowed ? 'block' : 'none';\n",
              "    })();\n",
              "  </script>\n",
              "</div>\n",
              "\n",
              "    </div>\n",
              "  </div>\n"
            ],
            "application/vnd.google.colaboratory.intrinsic+json": {
              "type": "dataframe",
              "variable_name": "df",
              "summary": "{\n  \"name\": \"df\",\n  \"rows\": 33016,\n  \"fields\": [\n    {\n      \"column\": \"numero_processo\",\n      \"properties\": {\n        \"dtype\": \"category\",\n        \"num_unique_values\": 33016,\n        \"samples\": [\n          \"10005576220168260372\",\n          \"22515148120178260000\",\n          \"21070238320148260000\"\n        ],\n        \"semantic_type\": \"\",\n        \"description\": \"\"\n      }\n    },\n    {\n      \"column\": \"id_documento\",\n      \"properties\": {\n        \"dtype\": \"category\",\n        \"num_unique_values\": 33016,\n        \"samples\": [\n          \"124550593 - 0\",\n          \"50851722 - 0\",\n          \"121651539 - 0\"\n        ],\n        \"semantic_type\": \"\",\n        \"description\": \"\"\n      }\n    },\n    {\n      \"column\": \"data_hora_documento\",\n      \"properties\": {\n        \"dtype\": \"category\",\n        \"num_unique_values\": 3310,\n        \"samples\": [\n          \"2022-05-25\",\n          \"2020-02-11\",\n          \"2019-11-25\"\n        ],\n        \"semantic_type\": \"\",\n        \"description\": \"\"\n      }\n    },\n    {\n      \"column\": \"codigos_movimentos_temas\",\n      \"properties\": {\n        \"dtype\": \"string\",\n        \"num_unique_values\": 576,\n        \"samples\": [\n          \"80554;85222;85258;85738\",\n          \"85568;85630\",\n          \"85458;85629;85630\"\n        ],\n        \"semantic_type\": \"\",\n        \"description\": \"\"\n      }\n    },\n    {\n      \"column\": \"segmento_lei\",\n      \"properties\": {\n        \"dtype\": \"string\",\n        \"num_unique_values\": 27130,\n        \"samples\": [\n          \"carlos alberto lopes assinatura eletronica agravo interno eficacia erga_omnes respeitavel sentenca acao credor promover cumprimento julgado foro comarca domicilio desnecessidade comprovacao associacao poupador instituto_brasileiro_defesa_consumidor legitimidade ativa configurada inocorrencia prescricao aplicacao tabela pratica justica sao_paulo correcao monetaria debito juros mora devidos citacao banco autos acao_civil_publica incidencia artigo__numero_ codigo_civil brasileiro questionamento improvido agravo interno interposto respeitavel decisao _folha_ 63_77 parcial provimento agravo instrumento contrario pretendido inciso artigo__numero_ codigo_defesa_consumidor estabelece acoes coletivas objeto defesa interesses individuais homogeneos sentenca procedencia fara julgada erga_omnes beneficiar vitimas sucessores foro idem codigo_processo_civil comentaido legissacao processual extravagante vigor fins artigo_sa codigo processo civi sentenca juizo vara civel _numero_ exclusivos filiados conforme disposto artigo_2 lei_9494_97 hipotese diversa presente artigo_543 codigo_processo_civil provimento representativo controversia efeitos artigo_sa codigo_processo_civil fxkada seguinte tese ambito privado anos prazo prescricional ajuzamento execucao individual pedido cumprimento sentenca acao civi _numero_ devedora incidiu mora data citacao acao razao percepcao juros moratorios oriundos diferenca correcao monetaria caderneta poupanca correspondente mes janeiro ano 1989 devida entao moldes artigo__numero_ codigo_civil brasileiro _numero_ agiu inteiro acerto desembargador parcial provimento agravo instrumento tratar hipotese prevista inciso artigo__numero_ codigo_processo_civil\",\n          \"agravo instrumento expurgos inflacionarios acao_civil_publica execucao individual inadequacao rito adotado liquidacao sentenca necessidade observancia disposto artigo_475 codigo_processo_civil 1973 hoje artigo_509 inciso codigo_processo_civil 2015 precedente superior_tribunal_justica descabimento concreto reconhecimento nulidade procedimento artigo_5 legitimacao legal extraordinaria arrimo especialmente artigo_81 _numero_ _numero_ codigo_defesa_consumidor acao_civil_publica substitutiva acao consumo conforme lei acao_civil_publica codigo_defesa_consumidor efeitos sentenca procedencia acao_civil_publica substitutiva proposta associacao finalidade defesa interesses direitos individuais homogeneos consumidores acao consumo beneficiarao consumidores prejudicados sucessores legitimando liquidacao execucao independentemente serem filiados associacao promovente toca suspensao tramitar processo nao razao agravante constou expressamente certidao referente proafr recurso_especial 1877280_sao_paulo secao unanimidade afetou rito recursos repetitivos artigo__numero_ codigo_processo_civil_ 2015 termos voto nao aplica limitacao contida artigo_2 caput lei prosseguindo hipotese analise liquidacao necessaria estatuida artigo_475 codigo_processo_civil 1973 hoje artigo_509 incolendo codigo_processo_civil 2015 seja dever observar procedimento ordinario comum respectivamente consideradas regras legais indicadas artigo_543 codigo_processo_civil efeitos artigo_543 codigo_processo_civil fixada seguinte tese ambito privado anos prazo prescricional ajuizamento execucao individual pedido cumprimento sentenca acao_civil_publica provido consolidando tese supra regime artigo_543 codigo_processo_civil resolucao 2008 superior_tribunal_justica concreto julgando\\ufffese prescrita execucao cumprimento sentenca fins representativo controversia codigo_processo_civil artigo_543 redacao dada lei_11418 _data_ declara consolidada tese seguinte juros mora incidem citacao devedor fase conhecimento acao_civil_publica fundar responsabilidade contratual haja configuracao mora anterior possivel monocraticamente provimento decisao recorrida estiver manifesto confronto sumula jurisprudencia dominante corte exegese artigo_557 par\\u00e1grafo_1 codigo_processo_civil possibilidade diferimento termos artigo_5 lei_estadual_11608_ 2003 nao conta taxativo desnecessidade liquidacao artigos arbitramento bastando apresentacao simples calculos apuracao devido termos artigo_475 cpcolendo possibilidade diferimento termos artigo_5 lei_estadual_11608_ 2003 nao possui taxativo desnecessidade liquidacao artigos arbitramento desnecessidade liquidacao artigos arbitramento agravante posto instituicao financeira base calculo correcao monetaria aplica divida judicial independentemente disposicao expressa sentenca decisao forca lei base incidencia analise saldo existente conta poupanca janeiro 1989 haja mera atualizacao montante apure devido naturalmente incidirao respeitado mecanismo legal aludido expurgos referentes planos economicos nao contemplados sentenca planos economicos posteriores modo algum significa acrescer encargos divida tratada correcao monetaria limita tornar montante condenacao atual nao substancialmente originalmente fixado 1__numero_ honorarios recursais destaque regra prevista par\\u00e1grafo_11 artigo_85 codigo_processo_civil refere possibilidade majoracao verba honoraria\",\n          \"fins artigo_543 codigo_processo_civil sentenca juizo vara civel circunscricao judiciaria brasilia_df acao nao aplica limitacao contida artigo_2 caput lei hipotese analise liquidacao necessaria estatuida artigo_475 codigo_processo_civil 1973 hoje artigo_509 incolendo codigo_processo_civil 2015 seja dever observar procedimento ordinario comum respectivamente consideradas regras legais indicadas fins representativo controversia codigo_processo_civil artigo_543 redacao dada lei_11418 _data_ declara consolidada tese seguinte juros mora incidem citacao devedor fase conhecimento acao_civil_publica fundar responsabilidade contratual haja configuracao mora anterior consultando processo verifica deposito realizado prazo legal vide _folha_ _numero_ situacao nao gera recorrido fixacao verba honoraria circunstancia considerando trata hipotese decisao incidente processual nao lei autorizasse imposicao pagamento sentido cumpre destacar orientacao posta repetitivo recurso_especial 1134186_rs analisar questao ambito cumprimento sentenca entao estabelecido artigo_475 codigo_processo_civil_ 1973 1__numero_ repetitivo atualidade alias artigo_523 par\\u00e1grafo_1 codigo_processo_civil 2015 claramente determina haja condenacao honorarios advogado nao ocorrer pagamento voluntario prazo caput aludida disposicao basta situacao processo analise descabida supra aludida condenacao\"\n        ],\n        \"semantic_type\": \"\",\n        \"description\": \"\"\n      }\n    },\n    {\n      \"column\": \"segmento_fato\",\n      \"properties\": {\n        \"dtype\": \"string\",\n        \"num_unique_values\": 29644,\n        \"samples\": [\n          \"cerceamento defesa indeferimento pericia contabil prova despicienda ilegitimidade passiva nao restou comprovado valores relativos depositos caderneta poupanca excluidos transferencia ativo correta conclusao agravados qualidade herdeiros titular caderneta poupanca tendo comprovado condicao sucessores detem legitimidade ativa aplicando hipotese regras condominio conforme autoriza paragrafo unico artigo__numero_ codigo_civil vigente artigo__numero_ codigo 1916 colendo disposto artigo_12 inciso codigo_processo_civil nao exclui hipoteses nao verificou partilha legitimidade herdeiro vindicar juizo bens recebidos titulo heranca casu trata legitimacao concorrente anota prova quinhao herdeiro feita oportuno seja ocasiao recebimento credito corpo aresto consta leitura clausulas contratuais nao concluir ativos passivos assumidos banco hsbc sendo inviavel afirmar valores depositados correntistas nao estariam responsabilidade banco agravante talhe lapidar escolio mestre jose carlos barbosa moreira doutrina processual unanime afirmar extensao substituido iudicata forme processo integrado substituto chiovenda infere tambem verdadeira conquanto frequente literatura proposicao reciproca enunciada acima julgada forme face titular relacao litigiosa vincula tambem investido legitimacao extraordinaria deduzir juizo mesma relacao alias existencia protocolo cisao parcial mediante atribuicao patrimonio sociedade existente toma feicao negocio bilateral natureza contratual envolvendo sociedade cindenda beneficiaria afirma professor modesto carvalhosa comentarios lei sociedades anonimas tomo trata agravo instrumento interposto respeitavel decisao copiada _folha_ 27_29 acolheu pedido formulado sede liquidacao jose hernandes conta suma inarredavel restituicao dinheiro objeto conta poupanca acrescido juros remuneratorios _porcentagem_ mes tambem denominado juros compensatorios poupador ficou privado utilizacao capital largo espaco banco multiplo pende acao rescisoria colendo superior_tribunal_justica versando questao termo prazo prescricional acao haver juros remuneratorios correcao monetaria diferencas janeiro fevereiro 1989 _data_ juros mora nao devidos poupadores uniformemente ajuizamento acao_civil_publica acao_civil_publica pretensao ajuizavel defesa protecao direitos disponiveis individuais prescricao dela corre ocorre violacao preservacao objeto acao_civil_publica exame fevereiro 1989 decorre artigo__numero_ colendo dispondo violado nasce titular pretensao extingue prescricao prazos aludem artigo__numero_ dispositivo corresponde artigo__numero_ colendo 1916 dispunha corresponde acao assegura anotando palavra acao texto corresponde pretensao anspriich idioma alemao traduzida provarem associados instituto_brasileiro_defesa_consumidor data ajuizamento acao_civil_publica evidente interrompida prescricao beneficiados disposto artigo__numero_ codigo_processo_civil citacao interrompeu prescricao associados retroagindo data ajuizamento incidentes habilitacao liquidacao afirmam titulares assegurado imutavel sentenca acao_civil_publica vara civel central comarca capital sao_paulo invocacao preliminar ilegitimidade passiva hsbc bank brasil hsbc bank brasil banco multiplo nao acao_civil_publica nao prova tenha sido citado responder pretensao titulares contas poupanca reclamam pagamento diferencas remuneracao sido citado incidentes habilitacao liquidacao numero deles banco bamerindus relevancia nao prova conta poupanca adquiridas hsbc bank responsavel pagamento diferencas rendimentos conta sera banco bamerindus visao economico financeira questao permite afirmar nao prova hsbc bank brasil banco multiplo adquiriu ativos liquidando banco bamerindus valores correspondam creditos poupadores diferencas remuneracao contas poupanca nao estejam formam saldo rubrica depositos poupanca objeto negocio liquidante representante autoridade monetaria hsbc bank brasil nao prova disto relevancia nao prova conta poupador tivesse algum saldo _data_ nao deduzir tenha sido adquirida hsbcolendo alega cerceamento defesa consiste indeferimento producao prova pericial contabil extremamente necessaria apurar quantum_debeatur passivel discussao sede liquidacao artigos afirma divergencias valores apurados partes situacao permite concluir imprescindibilidade estudo tecnico aduz condenacao acao_civil_publica conteudo generico sendo necessaria comprovacao agravados associacao instituto_brasileiro_defesa_consumidor detinham condicao poupadores banco bamerindus saldo positivo existente data encerramento contas requisitos poderiam comprovados ocorresse liquidacao artigos alegada ilegitimidade ativa funda ausencia comprovacao associacao agravados instituto_brasileiro_defesa_consumidor seja epoca propositura acao_civil_publica liquidacao sentenca afirma respeitavel sentenca nao delimitou beneficiarios decisao razao instado manifestar questao egregio justica sao_paulo delimitar extensao julgado associados instituto_brasileiro_defesa_consumidor fato nao comprovado agravados tambem afirma ilegitimidade ativa comprovada nao observancia limitacao territorial imposta artigo__numero_ lei_7347__numero_ lei acao_civil_publica agravados residentes comarcas distintas capital nao fazendo jus extensao decisao tocante legitimacao ativa sustenta agravante herdeiros titular cadernetas poupanca nao demonstaram beneficiarios espolio aduz acao ajuizada exclusivamente banco bamerindus brasil instituicao financeira decretada intervencao liquidacao extrajudicial esclarece durante figurantes nao total _numero_ bilhoes hsbc bank brasil banco multiplo provar nao inclui total adquirido tera pago rogacao podera recobrar autoridade monetaria massa liquidanda conclui nao prova hsbc bank brasil banco multiplo seja legitima pagar credito agravante fundamento sentenca acao_civil_publica vara civel central comarca capital sao_paulo nao encargo instituicao financeira compradora prova negativa conta poupanca agravante embargante nao cujos saldos existentes somavam _numero_ bilhoes adquiridas negociadas interventor instituicao financeira produzir prova mesma entanto afirma referida avenca nao permite concluir pessoas juridicas possam confundidas tampouco possam sucessoras devedoras solidarias alguma obrigacao assevera institutos intervencao liquidacao extrajudicial nao equiparam extincao pessoa juridica continua existindo permanecendo titular direitos obrigacoes situacao observada autor acao_civil_publica algum pleiteou inclusao agravante polo ativo acao sustenta nao assumiu contas poupanca agravados eram titulares banco bamerindus estarem encerradas epoca assinatura venda compra ativos assuncao direitos obrigacoes avencas afirma modelo adotado legislacao especificamente lei_11101_ 2005 decreto_federal_9 2061 regulamenta artigo__numero_ lei_6024_74 medida_provisoria_1182_95 convertida lei_9447_97 aduz nao pacifica jurisprudencia superior_tribunal_justica reconhecimento indistinto agravante banco bamerindus sustenta houve excesso calculo apresentado agravados tambem afirma disposto condenacao pagamento juros remuneratorios periodo posterior fevereiro 1989 devendo incidir referido mes assevera tambem juros remuneratorios nao poderiam incidir apos encerramento contas poupanca tambem afirma termo quo juros moratorios considerado decisao agravada modificado amolda excecoes listadas dias toffoli trata sentenca transitada julgado fase execucao definitiva exatos termos artigo_475 codigo_processo_civil definitiva execucao sentenca transitada julgado provisoria tratar sentenca impugnada mediante nao atribuido efeito suspensivo impende examinar alegacao cerceamento defesa face antecipado lide assente jurisprudencia materia antecipado lide predomina prudente discricao magistrado exame necessidade nao realizacao prova audiencia ante circunstancias concreto necessidade nao ofender principio basilar pleno contraditorio diapasao constantes autos elementos prova documental suficientes formar convencimento julgador inocorre cerceamento defesa julgada antecipadamente controversia estudo tema inexcedivel professor moacyr amaral santos ensina objeto prova judiciaria fatos causa sejam fatos deduzidos partes fundamento acao excecao visa verificar fatos afirmados certos seja criar existencia finaliza preclaro jurista mencionando destinatario prova juiz afirmacoes fatos feitas litigante dirigem juiz precisa verdade mesmos produz prova juiz formar conviccao comentarios codigo_processo_civil sobreleva notar cabe juiz termos artigo_125 codigo_processo_civil velar rapida solucao litigio fundamento artigo__numero_ codigo rito determinar provas necessarias instrucao processo indeferir diligencias inuteis meramente protelatorias laborou acertadamente eminente magistrada sentenciante indeferir pericia contabil despicienda concreto liquidacao artigos individuacao condenacao generica completa comprovacao existencia conta poupanca demonstracao existencia deposito periodo objeto causa nao mister provar fato demandar dilacao probatoria meros calculos incidencia indices fartamente conhecidos suficientes delimitar quantum_debeatur comprovacao legitimidade ativa credor comprovacao legitimidade ativa credor poupador propoe acao execucao lastro titulo executivo judicial exarado acao_civil_publica despicienda mostra comprovacao vinculo associacao proponente acao apresentacao relacao nominal endereco associados respeito confira acoes coletivas codigo_defesa_consumidor tratando defesa interesses individuais homogeneos sentenca julgada erga_omnes procedencia pedido beneficiar vitimas sucessores\",\n          \"trata apelacao interposta sentenca rejeitou impugnacao ante deposito julgou extinto processo termos artigo_924 incolendo codigo_processo_civil razoes recursais argumenta preliminarmente incompetencia juizo prescricao ilegitimidade ativa merito aduz juros moratorios termo inicial data citacao realizada acao juros remuneratorios incidencia unica fevereiro 1989 correcao monetaria indices poupanca modo desnecessaria comprovacao filiacao poupador instituto_brasileiro_defesa_consumidor restou definido definitivo superior_tribunal_justica repetitivo 1438263 sao_paulo caindo terra argumentacao recorrente sentido contrario tese firmada decisao _numero_ abril 2021 seguintes termos acao_civil_publica proposta associacao condicao substituta processual consumidores possuem legitimidade liquidacao execucao sentenca beneficiados procedencia pedido independentemente serem filiados associacao promovente concreto desprovido hipotese conforme fundamentacao exposta nao aplicaveis conclusoes adotadas colendo supremo_tribunal_federal julgamentos recurso_extraordinario 573232_sc balizas subjetivas titulo judicial formalizado acao proposta associacao definida representacao processo conhecimento presente autorizacao expressa associados lista destes juntada inicial recurso_extraordinario 2043 beneficiarios titulo executivo acao proposta associacao residentes area compreendida jurisdicao orgao julgador detinham ajuizamento condicao filiados constaram lista apresentada peca inicial marco inicial juros moratorios parametro data citacao acao_civil_publica termo tambem restou definido superior_tribunal_justica repetitivo 1370899 sao_paulo caindo terra argumentacao apelante sentido contrario fundamentado juiz quo aplicacao tabela pratica justica fins correcao monetaria inves indices caderneta poupanca revela fato adequada atualizar monetariamente fins cobranca judicial debitos decorrentes diferencas expurgos inflacionarios nao pagas poupadores autos realidade extraida prova constante autos nao acolher sustentacoes trazidas tema apelo acolhimento impugnacao parcial serao arbitrados honorarios beneficio executado base artigo_20 par\\u00e1grafo_4 codigo_processo_civil\",\n          \"agravo instrumento expurgos inflacionarios acao_civil_publica liquidacao sentenca competencia pleito nao restrito foro tramitou acao podendo deduzido poupador foro domicilio entendimento pacificado superior_tribunal_justica analise repetitivo prefacial afastada agravo instrumento expurgos inflacionarios acao_civil_publica execucao individual inadequacao rito adotado liquidacao 3__numero_ sentenca necessidade observancia disposto artigo_475 codigo_processo_civil 1973 hoje artigo_509 inciso codigo_processo_civil 2015 precedente superior_tribunal_justica descabimento concreto reconhecimento nulidade procedimento agravo instrumento expurgos inflacionarios acao_civil_publica liquidacao sentenca correcao monetaria tabela pratica tj_sao_paulo pretensao deduzida banco sejam utilizados indices caderneta poupanca descabimento tabela pratica tj_sao_paulo revela adequada atualizar monetariamente debitos fins cobranca judicial entendimento pacificado camara privado trata agravo instrumento tirado decisao acolheu parcialmente impugnacao cumprimento sentenca condenando executado pagamento honorarios advocaticios sustenta agravante sintese suspensao processo fulcro recurso_extraordinario 632212_sao_paulo ilegitimidade ativa passiva incompetencia territorial lide fundamento titulo judicial proveniente acao_civil_publica movida instituto_brasileiro_defesa_consumidor brasilia necessidade liquidacao termos artigo_509 codigo_processo_civil marco inicial juros mora data citacao banco liquidacao sentenca correcao monetaria aplicados indices caderneta poupanca indices correcao janeiro fevereiro 1989 sendo _porcentagem_ _porcentagem_ respectivamente previsao juros remuneratorios incidencia unica mes fevereiro 1989 inclusao indevida expurgos inflacionarios descabimento honorarios advocaticios nao duvida titulo judicial cumprimento refere\\ufffese plano verao situacao simploria facil verificacao modo suficiente impedir suspensao 5__numero_ tange prefacial ilegitimidade ativa desnecessaria comprovacao filiacao poupador instituto_brasileiro_defesa_consumidor execucao acao_civil_publica ajuizada restou definido definitivo superior_tribunal_justica repetitivo 1438263 sao_paulo caindo terra argumentacao recorrente sentido contrario tese firmada decisao _numero_ abril 2021 seguintes termos acao_civil_publica proposta associacao condicao substituta processual consumidores possuem legitimidade liquidacao execucao sentenca beneficiados procedencia pedido independentemente serem filiados associacao promovente concreto desprovido hipotese conforme fundamentacao exposta nao aplicaveis conclusoes adotadas colendo supremo_tribunal_federal julgamentos recurso_extraordinario 573232_sc balizas subjetivas 6__numero_ titulo judicial formalizado acao proposta associacao definida representacao processo conhecimento presente autorizacao expressa associados lista destes juntada inicial recurso_extraordinario 2043 beneficiarios titulo executivo acao proposta associacao residentes area compreendida jurisdicao orgao julgador detinham ajuizamento condicao filiados constaram lista apresentada peca inicial tange alegada incompetencia juizo tramite pedido cumprimento sentenca apresentado agravado nao controversia possibilidade ajuizado pleito foro domicilio poupador autos cumprindo destacar pedido questao nao refere acao_civil_publica aludida razoes recursais tramitou distrito acao_civil_publica _registro_juridico_ perante vara fazenda publica comarca capital cumprimento sentenca generica condena pagamento expurgos caderneta poupanca precedido fase liquidacao procedimento comum completar atividade cognitiva parcial acao mediante comprovacao fatos determinantes sujeito ativo relacao material tambem prestacao devida marco inicial juros moratorios parametro data citacao acao_civil_publica termo tambem restou definido 9__numero_ superior_tribunal_justica repetitivo 1370899 sao_paulo caindo terra argumentacao agravante sentido contrario concerne pretendida aplicacao indices caderneta poupanca fins correcao monetaria inves tabela pratica justica estabelecida decisao agravada nao razao agravante ultima revela adequada atualizar monetariamente fins cobranca judicial debitos decorrentes diferencas expurgos inflacionarios nao pagas poupadores autos poupador deduzido indice efetivamente aplicado epoca recebimento diferenca _porcentagem_ desnecessidade comprovacao filiacao poupador idecolendo desnecessidade comprovacao filiacao poupador idecolendo pericia determinada realizacao pericia contabil verificacao real debito considerados criterios estabelecidos inicial sentenca devedor onus antecipar pagamento honorarios periciais sustenta agravo nao sentenca amparados juros remuneratorios porem vistos autos cuidado facilmente percebe realmente sentenca originalmente questao mencionados juros nao tenha sido abordada razao embargos declaratorios opostos aludida decisao ministerio_publico juiz quo acolhendo embargos expressamente tratou tema proferiu decisao admitindo incidencia juros remuneratorios questionados consta autos principais agravante posto instituicao financeira base calculo correcao monetaria aplica divida judicial independentemente disposicao expressa sentenca decisao forca lei base incidencia analise saldo existente conta poupanca janeiro 1989 haja mera atualizacao montante apure devido naturalmente incidirao respeitado mecanismo legal aludido expurgos referentes planos economicos nao contemplados sentenca planos economicos posteriores modo algum significa acrescer encargos divida tratada correcao monetaria limita tornar montante condenacao atual nao substancialmente originalmente fixado acolhimento impugnacao parcial serao arbitrados honorarios beneficio executado base artigo_20 par\\u00e1grafo_4 cpcolendo autos fixados honorarios advocaticios decisao agravada restaram afastados consoante fundamentacao acima exposta modo nao haver aplicar aludida regra majoracao honoraria\"\n        ],\n        \"semantic_type\": \"\",\n        \"description\": \"\"\n      }\n    },\n    {\n      \"column\": \"segmento_decisao\",\n      \"properties\": {\n        \"dtype\": \"string\",\n        \"num_unique_values\": 29248,\n        \"samples\": [\n          \"acordam camara privado justica sao_paulo proferir seguinte decisao deram provimento artigos _numero_ _numero_ codigo_defesa_consumidor inocorrencia prescricao provido interesses transindividuais execucao individual fulcro paragrafo artigo__numero_ estatuto adjetivo eficacia erga_omnes respeitavel sentenca acao credor promover cumprimento julgado foro comarca domicilil desnecessidade comprovacao associacao poupador instituto_brasileiro_defesa_consumidor legitimidade ativa configurada apelante legitima sucessora titular conta poupanca razao possui legitimidade figurar polo ativo todavia nao haja inclusao herdeiros polo ativo demanda autor podera pleitear pagamento quota devida suscitada ilegitimidade passiva tema analisado ocasiao respeitavel sentenca demanda julgada formal material descabimento suspensao execucao individual juros mora devidos citacao banco autos acao_civil_publica incidencia artigo__numero_ codigo_civil brasileiro aplicacao tabela pratica justica sao_paulo correcao monetaria debito cabimento inclusao expurgos posteriores reflexa entendimento pacificado superior_tribunal_justica sede repetitivo possibilidade arbitramento honorarios advogado incidencia paragrafo artigo__numero_ supracitado diploma legal _numero_ aplicacao sumula__numero_ superior_tribunal_justica impossibilidade inclusao verba honoraria advocaticia arbitrada demanda juros remuneratorios ausencia previsao titulo exequendo provido fins desconstituir respeitavel sentenca julgar parcialmente procedente impugnacao cumprimento sentenca trata execucao fundada titulo executivo judicial julgada extinta respeitavel sentenca 226_228 comfundamento inciso artigo__numero_ codigo_processo_civil relatorio seadota apela credor objetivando reformar julgado alegando beneficios justica gratuita concedidos nao possuicondicoes economicas arcar comas custas processo prescricao nao restou caracterizada comporta provimento provimento representativo controversia tese consolidada acoes coletivas trata codigo asentencafaracoisajulgada erga_omnes procedencia pedido beneficiar vitimas sucessores hipotese inciso paragrafo unico tratar execucao individual foro competente domicilio recorrente localidade processada acao condenatoria modo constitui faculdade escolha promovera fase processual tema preleciona supracitado autor lei expressamente _numero_ mitindo credor liquide sentenca foro diverso acao condenatoria afastando regra leiassimo desejava favorecer credor mitindo iquidar sentenca emseudomicilio eficacia respeitavel decisao nao restringe area comarca principal objetivo acao_civil_publica evitar multiplicidade acoes decorrentes fato 1998 _data_98 condenouo banco brasil pagamento diferencas decorrentes expurgos inflacionarios cadernetas poupanca ocorridos janeiro 1989 plano verao aplicavel forca julgada indistintamente detentores caderneta poupanca banco brasil independentemente residenciia domicilio distrito reconhecendo beneficiario ajuizar cumprimento individual sentenca juizo micilio ouno distrito poupador nao precisava comprovar associacao instituto_brasileiro_defesa_consumidor promover execucao individual tampouco conceder autorizacao referido instituto propositura acao_civil_publica conforme depreende consulta sitio eletronico supremo_tribunal_federal extraordinario 930474 mendes considerou necessaria autorizacao poupadores instituto_brasileiro_defesa_consumidor seguintes termos ante exposto provimento extraordinario base artigo_932 _numero_ superior_tribunal_justica recurso_especial 1391198_rs secao relatorministroluis felipe salomao _data_ alias mencionada corte pacificou entendimento casos constar dispositivo sentenca condenatoria generica processo acao_civil_publica aplicabilidade poupadores descabido exame _numero_ necessidade autorizacao associacoes paraarepresentacao associados efeito constou expressamente respeitavel sentenca acao_civil_publica nao bastasse materia referente legitimidade ativa poupadores independente associacao executar titulo restou pacificada definitiva confor depreende seguinte gamento poupadores sucessores detem egitimidade ativa tambem forca julgada independentemente fazerem nao quadros associativos instituto_brasileiro_defesa_consumidor ajuizarem cumpr imento individual sentenca acao_civil_publica 1998 _data_98 uizo vara civel circunscricao judiciaria brasilia termos inciso paragrafo artigo__numero_ ocorre conforme atestaram instancias ordinarias dispositivo sentenca condenatoria generica processo conhecimento acao_civil_publica constou expressamente aplicabilidade poupadores santa catarina sentido entendendo dejustica precurso acao reivindicatoria tutela deixado cujus partilha nao verificada herdeiro legitimidade ativa reconhecida provido apelacao _registro_juridico_ fernandopolis _registro_juridico_ lessandra_ellen claudia_paloma alline_camila _numero_ contagem data citacao execucao individual improvido agravo regimental improvido outrossim superior_tribunal_justica pacificou entendimento cabivel inclusao expurgos posteriores calculo divida conforme depreende seguinte julgado condenacao quantia certa fixada iquidacao decisao parcela incontroversa cumprimento definitivo sentenca requerimento exequente sendo executado intimado pagar debito prazo _numero_ dias acrescido custas sehouver nao ocorrendo pagamento voluntario prazo caput debito sera acrescido multa tambem honorarios advogado ausencia condenacao nao tendo havido condenacao expressa pagamento juros remuneratorios acao_civil_publica exposto provimento fins conceder apelante beneficios justica gratuita desconstituir respeitavel sentenca julgar parcialmente procedente impugnacao cumprimento sentenca excluir montante exequendo juros remuner atorios computados apos mes fevereiro 1989 honorarios advocaticios arbitrados demanda\",\n          \"acordam camara privado justica sao_paulo proferir seguinte decisao rejeitada materia preliminar negaram provimento nao provido grau pretensao julgada procedente declarar inexigiveis reajustes praticados recurso_extraordinario razao faixa etaria autorizado reajuste observancia divulgado condenar recurso_extraordinario devolver valores cobrados indevidamente simples corrigidos tabela pratica justica acrescidos juros moratorios desembolso condenar recurso_extraordinario pagamento custas despesas 3__numero_ processuais honorarios advocaticios fixados _porcentagem_ condenacao pleiteia desacolhimento pretensao invertendo onus sucumbencia prescricao inteligencia artigo_206 paragrafo inciso codigo_civil prazo prescricao trienal nao acolhimento prejudicial merito parcial provimento sentenca procedencia parcialmente provido afastar devolucao dobro parcelas cobradas exposto rejeita preliminar arguida nega provimento interposto recurso_extraordinario\",\n          \"acordam camara privado justica sao_paulo proferir seguinte decisao negaram provimento carlos alberto lopes assinatura eletronica _numero_ agravo interno inocorrencia prescricao eficacia erga_omnes respeitavel sentenca acao credor promover cumprimento julgado foro comarca domicilio desnecessidade comprovacao associacao poupador instituto_brasileiro_defesa_consumidor legitimidade ativa configurada descabimento suspensao execucao homologacao autos extraordinario 632212_sao_paulo gilmar mendes respeito objeto seja plano collor presente demanda refere plano verao aplicacao tabela pratica justica sao_paulo correcao monetaria debito utilizacao referida tabela acarreta automaticamente incidencia percentual _porcentagem_ janeiro _porcentagem_ mes fevereiro 1989 juros mora devidos citacao banco autos acao_civil_publica incidencia artigo__numero_ codigo_civil brasileiro improvido agravo interno interposto respeitavel decisao _folha_ 71_90 parcial provimento agravo instrumento presente execucao encontra prescrita julgado proferido acao eficacia area abrangida competencia territorial orgao prolator credor nao possui legitimidade ativa nao comprovou associacao instituto_brasileiro_defesa_consumidor tampouco teria concedido autorizacao aludida instituicao ajuizamento demanda suspensao execucao _numero_ interessados querendo manifesiem adesao proposta respectivas acoes perante juizos origem competentes nesses ttermos homologo fulcro artigo_487 codigo_processo_civil omissis comunicado presidencia_presidencia secao _numero_ privado_nugep corregedoria justica 2018 presidencia justica sao_paulo presidencia secao privado nucleo gerenciamento precedentes presidencia nugep corregedoria jusica atribuicoes comunicam magistrados servidores capital interior advogados membros ministerio_publico defensores publicos publico extraordinario repercussao 632212 correspondente tema referente plano economico collor relatora gilmar mendes determinada suspensao processos individuais coletivos seja fase conhecimento execucao versem questao prazo _numero_ contar _data_ data homologado iniciado prazo adesao interessados _numero_ nao plano collor ssim plano verao objeto presente demanda inexiste obice prosseguimento agravo regimental improvido agiu inteiro acerto desembargador parcial provimento tratar hipotese prevista inciso artigo__numero_ estatuto adjetivo exposto nega provimento nao comporta provimento provimento representativo controversia tese consolidada efeitos artigo_543c codigo processo civl fixada segunie tese ambito privado anos prazo prescricional ajuizamento execucao individual _numero_ pedido cumprimento senienca acao cwvlpublica contrario pretendido inciso artigo__numero_ codigo_defesa_consumidor estabelece acoes coletivas objeto defesa interesses individuais homogeneos sentenca procedencia fara julgada erga_omnes beneficiar vitimas sucessores constitui faculdade escolha promovera execucao individual respeitavel sentenca demanda sendo competente foro domicilio localidade processada acao condenatoria 1998 _data_989 condenou banco brasil pagamento diferencas decorrentes expurgos inflacionarios cadernetas poupanca ocorridos janero 1989 plano verao aplicavel forca julgada indistintamente deientores cadernetia poupanca banco brasil independentemente residencia domicilio disirito reconhecendose beneficiario direio ajuzar cumprimento individual senienca coleinva juizo domicilio distrito _numero_ extraordinario 8856058_sao_paulo respeito cumprimento respeitavel sentenca acao_civil_publica diversa objeto execucao poupador nao precisava comprovar associacao instituto_brasileiro_defesa_consumidor promover execucao individual tampouco conceder autorizacao referido instituto propositura acao_civil_publica posicionamento esposado supremo_tribunal_federal extraordinario 573232_sc conforme constou concluo lancei precedente turma autorizacao formalizada generica valida associacao defender judicial extrajudicialmente interesses repito filiados inciso xxido artigo__numero_ certo _numero_ outubro 2018 autos extraordinario 632212_sao_paulo gilmar mendes decisao monocratica determinou suspensao processos discute expurgos inflacionarios referentes planos economicos seguintes termos nesses termos entendo necessaria suspensao processos individuais coletivos seja fase conhecimento execucao versem questao prazo _numero_ contar _data_ data homologado _numero_ iniciado prazo adesao interessados\"\n        ],\n        \"semantic_type\": \"\",\n        \"description\": \"\"\n      }\n    },\n    {\n      \"column\": \"segmento_pedido\",\n      \"properties\": {\n        \"dtype\": \"string\",\n        \"num_unique_values\": 19256,\n        \"samples\": [\n          \"uida apelacao interposto respeitavel sentenca _folha_ 158_162 manteve liminar concedida fase postulatoria julgou parcialmente procedente pedido inicial declarar nulidade clausula contratual permite reajuste mensalidades plano saude razao faixa etaria alem determinar restituicao pago simples razao autor decaido minima pedido inicial carreou integralmente plano saude responsabilidade pagamento custas despesas processuais honorarios advocaticios fixados _porcentagem_ causa observancia beneficio gratuidade mesa _data_ suspenso pedido vista juiz _folha_ agravo retido detido exame autos revela recurso_extraordinario pede reconhecimento prescricao pretensao inicial autor completou sessenta anos idade fevereiro 2009 data sofreu reajuste funcao aumento faixa etaria clausula _folha_ contrario pareceu operadora objeto acao nao respeito vicio defeito servico autor pretende reconhecimento nulidade reajustes contratuais razao mudanca faixa etaria restituicao valores pagos eminente sorteado provimento agravo retido relativo prazo prescricional pedido condenatorio aplicando prazo prescricional trienal provimento parcial apelacao afastar pedido nulidade clausula reajuste faixa etaria licito reconhecendo porem abusividade reajuste realizado titulo determinando solucao nao aplicacao indice criterio reajustamento vier apurado liquidacao sentenca ementa agravo retido pretensao reconhecimento prescricao anua inocorrencia majoracao mensalidades ocorrida anos 2009 2010 2011 2012 2013 2014 2015 prescricao trienal pretensao repeticao inteligencia artigo_206 par\\u00e1grafo_3 codigo_civil forca decidiu colendo superior_tribunal_justica recurso_especial 1360969_rs recurso_especial 1361182_rs decadencia inaplicabilidade artigo_26 inciso codigo_defesa_consumidor agravo retido provido\",\n          \"agravo instrumento expurgos inflacionarios acao_civil_publica cumprimento sentenca prescricao quinquenal prazo prescricional ingresso pedido cumprimento sentenca poupador contar transito julgado acao entendimento pacificado superior_tribunal_justica analise repetitivo prefacial merito rejeitada sustenta agravante sintese ilegitimidade ativa incompetencia territorial lide ocorrencia prescricao quinquenal considerando transitada julgado acao conhecimento acao_civil_publica _numero_ outubro 2009 esvaiu prazo ajuizamento pedido cumprimento sentenca _numero_ outubro 2014 ocorrencia prescricao vintenaria fato gerador invocado ocorreu _numero_ janeiro 1989 marco inicial juros mora intimacao pagamento citacao banco descabimento juros remuneratorios finalmente correcao monetaria incidir ajuizamento acao indices caderneta poupanca tange prefacial ilegitimidade ativa desnecessaria comprovacao filiacao poupador instituto_brasileiro_defesa_consumidor execucao acao_civil_publica ajuizada restou definido definitivo superior_tribunal_justica repetitivo 1438263 sao_paulo caindo terra argumentacao recorrente sentido contrario tese firmada decisao _numero_ abril 2021 seguintes termos acao_civil_publica proposta associacao condicao 4__numero_ substituta processual consumidores possuem legitimidade liquidacao execucao sentenca beneficiados procedencia pedido independentemente serem filiados associacao promovente fins artigo__numero_ codigo_processo_civil adotada seguinte tese acao_civil_publica proposta associacao condicao substituta processual consumidores possuem legitimidade liquidacao execucao sentenca beneficiados procedencia pedido independentemente serem filiados associacao promovente tange alegada incompetencia juizo tramite pedido cumprimento sentenca apresentado agravado nao controversia possibilidade ajuizado pleito foro domicilio poupador autos cumprindo destacar pedido questao nao refere acao_civil_publica aludida razoes recursais tramitou distrito acao_civil_publica _registro_juridico_ perante vara fazenda publica comarca capital efeitos artigo_543 codigo_processo_civil fixada seguinte tese ambito privado anos prazo prescricional ajuizamento execucao individual pedido cumprimento sentenca acao_civil_publica concreto sentenca exequenda transitou julgado _data_ superior_tribunal_justica _folha_ pedido cumprimento sentenca protocolado _data_ superior_tribunal_justica _folha_ 43_45 transcorrido prazo _numero_ anos estando prescrita pretensao executoria autos pedido cumprimento sentenca deduzido _numero_ marco 2016 transito julgado acao certificado _numero_ marco 2011 nao estando operada prescricao cabe preclaro juizo quo oportunamente pedido poupador determinar levantamento cabera juizo quo determinar levantamento incontroverso pedido poupador oportunamente\",\n          \"vistos acao repeticao indebito cumulada indenizacao dano moral julgada parcialmente procedente condenar reus solidariamente restituicao dobro indevidamente cobrado autora perfaz quantia 13470 rejeitando pedido indenizacao danos extrapatrimoniais repartindo onus sucumbencia _folha_ 204_211 destarte rigor procedencia pedido determinar devolucao valores indevidamente cobrados autora seja 6735 _numero_ setecentos trinta reais centavos\"\n        ],\n        \"semantic_type\": \"\",\n        \"description\": \"\"\n      }\n    }\n  ]\n}"
            }
          },
          "metadata": {},
          "execution_count": 9
        }
      ]
    },
    {
      "cell_type": "code",
      "source": [
        "from ipywidgets import Box, Layout, Textarea, IntText, BoundedIntText\n",
        "\n",
        "def display(df, index, left_column='conteudo', right_column='formatado'):\n",
        "    # index = 9578 # @param {type:\"number\"}\n",
        "\n",
        "    layout = Layout(width='550px', height='600px')\n",
        "    left = Textarea(value=df.loc[index, left_column], layout=layout, description=\"Original:\")\n",
        "    right = Textarea(value=df.loc[index, right_column], layout=layout, description='Processado:')\n",
        "\n",
        "    return Box([left, right])"
      ],
      "metadata": {
        "id": "AwyU83xq0i2A"
      },
      "execution_count": null,
      "outputs": []
    },
    {
      "cell_type": "code",
      "source": [
        "index = 9578 # @param {type:\"number\"}\n",
        "\n",
        "display(df, index, left_column='segmento_lei', right_column='segmento_decisao')"
      ],
      "metadata": {
        "colab": {
          "base_uri": "https://localhost:8080/",
          "height": 621,
          "referenced_widgets": [
            "66a80dbcea5b47d2a8f9194fd2019a81",
            "8a1c4ebd974349f1a6ee66901fae863c",
            "1e13ffd6538b4dfa9983c31e285f9367",
            "b7176f139a774e0b8a834b3f9cdceef8",
            "f8e111bf6af24792816487bb26eae7b7",
            "a33577ede516409c9e4a911a553e549f",
            "f3687ea1fda741839a327708afece1e0"
          ]
        },
        "id": "yHrQ3a7a01IU",
        "outputId": "a52e6658-84f8-477a-9bd3-15d9d8b56eaf"
      },
      "execution_count": null,
      "outputs": [
        {
          "output_type": "display_data",
          "data": {
            "text/plain": [
              "Box(children=(Textarea(value='artigo_295 paragrafo unico codigo_processo_civil_73 considera inepta inicial fal…"
            ],
            "application/vnd.jupyter.widget-view+json": {
              "version_major": 2,
              "version_minor": 0,
              "model_id": "66a80dbcea5b47d2a8f9194fd2019a81"
            }
          },
          "metadata": {}
        }
      ]
    },
    {
      "cell_type": "code",
      "source": [],
      "metadata": {
        "id": "_U-PierB1DmP"
      },
      "execution_count": null,
      "outputs": []
    }
  ]
}