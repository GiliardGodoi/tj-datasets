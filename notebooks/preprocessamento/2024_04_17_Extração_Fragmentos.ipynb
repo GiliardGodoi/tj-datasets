{
  "nbformat": 4,
  "nbformat_minor": 0,
  "metadata": {
    "colab": {
      "provenance": [],
      "machine_shape": "hm",
      "authorship_tag": "ABX9TyMZW5n7w1HYgAFz+rrmr+K/",
      "include_colab_link": true
    },
    "kernelspec": {
      "name": "python3",
      "display_name": "Python 3"
    },
    "language_info": {
      "name": "python"
    }
  },
  "cells": [
    {
      "cell_type": "markdown",
      "metadata": {
        "id": "view-in-github",
        "colab_type": "text"
      },
      "source": [
        "<a href=\"https://colab.research.google.com/github/GiliardGodoi/tj-datasets/blob/main/notebooks/preprocessamento/2024_04_17_Extra%C3%A7%C3%A3o_Fragmentos.ipynb\" target=\"_parent\"><img src=\"https://colab.research.google.com/assets/colab-badge.svg\" alt=\"Open In Colab\"/></a>"
      ]
    },
    {
      "cell_type": "code",
      "execution_count": null,
      "metadata": {
        "id": "KG67YakpCg8E",
        "colab": {
          "base_uri": "https://localhost:8080/"
        },
        "outputId": "9265e9bb-f670-4ed6-d0d3-35a377ade28e"
      },
      "outputs": [
        {
          "output_type": "stream",
          "name": "stdout",
          "text": [
            "Mounted at /content/drive\n"
          ]
        }
      ],
      "source": [
        "from google.colab import drive, userdata\n",
        "drive.mount('/content/drive')"
      ]
    },
    {
      "cell_type": "code",
      "source": [
        "!pip install \"tjdatasets @ git+https://github.com/GiliardGodoi/tj-datasets@april-24\""
      ],
      "metadata": {
        "colab": {
          "base_uri": "https://localhost:8080/"
        },
        "id": "uASrGefLRn0_",
        "outputId": "71c68473-81df-4b3a-fb4d-41dcfff3a83f"
      },
      "execution_count": null,
      "outputs": [
        {
          "output_type": "stream",
          "name": "stdout",
          "text": [
            "Collecting tjdatasets@ git+https://github.com/GiliardGodoi/tj-datasets@april-24\n",
            "  Cloning https://github.com/GiliardGodoi/tj-datasets (to revision april-24) to /tmp/pip-install-2i0vqfkx/tjdatasets_4fe5c7379bff4e9c848bb3e96b208ded\n",
            "  Running command git clone --filter=blob:none --quiet https://github.com/GiliardGodoi/tj-datasets /tmp/pip-install-2i0vqfkx/tjdatasets_4fe5c7379bff4e9c848bb3e96b208ded\n",
            "  Running command git checkout -b april-24 --track origin/april-24\n",
            "  Switched to a new branch 'april-24'\n",
            "  Branch 'april-24' set up to track remote branch 'april-24' from 'origin'.\n",
            "  Resolved https://github.com/GiliardGodoi/tj-datasets to commit eede31ef99c60a46d1ff7a586f9ef436fefe4320\n",
            "  Installing build dependencies ... \u001b[?25l\u001b[?25hdone\n",
            "  Getting requirements to build wheel ... \u001b[?25l\u001b[?25hdone\n",
            "  Installing backend dependencies ... \u001b[?25l\u001b[?25hdone\n",
            "  Preparing metadata (pyproject.toml) ... \u001b[?25l\u001b[?25hdone\n",
            "Requirement already satisfied: pandas in /usr/local/lib/python3.10/dist-packages (from tjdatasets@ git+https://github.com/GiliardGodoi/tj-datasets@april-24) (2.0.3)\n",
            "Requirement already satisfied: scikit-learn in /usr/local/lib/python3.10/dist-packages (from tjdatasets@ git+https://github.com/GiliardGodoi/tj-datasets@april-24) (1.2.2)\n",
            "Requirement already satisfied: nltk in /usr/local/lib/python3.10/dist-packages (from tjdatasets@ git+https://github.com/GiliardGodoi/tj-datasets@april-24) (3.8.1)\n",
            "Requirement already satisfied: spacy in /usr/local/lib/python3.10/dist-packages (from tjdatasets@ git+https://github.com/GiliardGodoi/tj-datasets@april-24) (3.7.4)\n",
            "Requirement already satisfied: click in /usr/local/lib/python3.10/dist-packages (from nltk->tjdatasets@ git+https://github.com/GiliardGodoi/tj-datasets@april-24) (8.1.7)\n",
            "Requirement already satisfied: joblib in /usr/local/lib/python3.10/dist-packages (from nltk->tjdatasets@ git+https://github.com/GiliardGodoi/tj-datasets@april-24) (1.4.0)\n",
            "Requirement already satisfied: regex>=2021.8.3 in /usr/local/lib/python3.10/dist-packages (from nltk->tjdatasets@ git+https://github.com/GiliardGodoi/tj-datasets@april-24) (2023.12.25)\n",
            "Requirement already satisfied: tqdm in /usr/local/lib/python3.10/dist-packages (from nltk->tjdatasets@ git+https://github.com/GiliardGodoi/tj-datasets@april-24) (4.66.2)\n",
            "Requirement already satisfied: python-dateutil>=2.8.2 in /usr/local/lib/python3.10/dist-packages (from pandas->tjdatasets@ git+https://github.com/GiliardGodoi/tj-datasets@april-24) (2.8.2)\n",
            "Requirement already satisfied: pytz>=2020.1 in /usr/local/lib/python3.10/dist-packages (from pandas->tjdatasets@ git+https://github.com/GiliardGodoi/tj-datasets@april-24) (2023.4)\n",
            "Requirement already satisfied: tzdata>=2022.1 in /usr/local/lib/python3.10/dist-packages (from pandas->tjdatasets@ git+https://github.com/GiliardGodoi/tj-datasets@april-24) (2024.1)\n",
            "Requirement already satisfied: numpy>=1.21.0 in /usr/local/lib/python3.10/dist-packages (from pandas->tjdatasets@ git+https://github.com/GiliardGodoi/tj-datasets@april-24) (1.25.2)\n",
            "Requirement already satisfied: scipy>=1.3.2 in /usr/local/lib/python3.10/dist-packages (from scikit-learn->tjdatasets@ git+https://github.com/GiliardGodoi/tj-datasets@april-24) (1.11.4)\n",
            "Requirement already satisfied: threadpoolctl>=2.0.0 in /usr/local/lib/python3.10/dist-packages (from scikit-learn->tjdatasets@ git+https://github.com/GiliardGodoi/tj-datasets@april-24) (3.4.0)\n",
            "Requirement already satisfied: spacy-legacy<3.1.0,>=3.0.11 in /usr/local/lib/python3.10/dist-packages (from spacy->tjdatasets@ git+https://github.com/GiliardGodoi/tj-datasets@april-24) (3.0.12)\n",
            "Requirement already satisfied: spacy-loggers<2.0.0,>=1.0.0 in /usr/local/lib/python3.10/dist-packages (from spacy->tjdatasets@ git+https://github.com/GiliardGodoi/tj-datasets@april-24) (1.0.5)\n",
            "Requirement already satisfied: murmurhash<1.1.0,>=0.28.0 in /usr/local/lib/python3.10/dist-packages (from spacy->tjdatasets@ git+https://github.com/GiliardGodoi/tj-datasets@april-24) (1.0.10)\n",
            "Requirement already satisfied: cymem<2.1.0,>=2.0.2 in /usr/local/lib/python3.10/dist-packages (from spacy->tjdatasets@ git+https://github.com/GiliardGodoi/tj-datasets@april-24) (2.0.8)\n",
            "Requirement already satisfied: preshed<3.1.0,>=3.0.2 in /usr/local/lib/python3.10/dist-packages (from spacy->tjdatasets@ git+https://github.com/GiliardGodoi/tj-datasets@april-24) (3.0.9)\n",
            "Requirement already satisfied: thinc<8.3.0,>=8.2.2 in /usr/local/lib/python3.10/dist-packages (from spacy->tjdatasets@ git+https://github.com/GiliardGodoi/tj-datasets@april-24) (8.2.3)\n",
            "Requirement already satisfied: wasabi<1.2.0,>=0.9.1 in /usr/local/lib/python3.10/dist-packages (from spacy->tjdatasets@ git+https://github.com/GiliardGodoi/tj-datasets@april-24) (1.1.2)\n",
            "Requirement already satisfied: srsly<3.0.0,>=2.4.3 in /usr/local/lib/python3.10/dist-packages (from spacy->tjdatasets@ git+https://github.com/GiliardGodoi/tj-datasets@april-24) (2.4.8)\n",
            "Requirement already satisfied: catalogue<2.1.0,>=2.0.6 in /usr/local/lib/python3.10/dist-packages (from spacy->tjdatasets@ git+https://github.com/GiliardGodoi/tj-datasets@april-24) (2.0.10)\n",
            "Requirement already satisfied: weasel<0.4.0,>=0.1.0 in /usr/local/lib/python3.10/dist-packages (from spacy->tjdatasets@ git+https://github.com/GiliardGodoi/tj-datasets@april-24) (0.3.4)\n",
            "Requirement already satisfied: typer<0.10.0,>=0.3.0 in /usr/local/lib/python3.10/dist-packages (from spacy->tjdatasets@ git+https://github.com/GiliardGodoi/tj-datasets@april-24) (0.9.4)\n",
            "Requirement already satisfied: smart-open<7.0.0,>=5.2.1 in /usr/local/lib/python3.10/dist-packages (from spacy->tjdatasets@ git+https://github.com/GiliardGodoi/tj-datasets@april-24) (6.4.0)\n",
            "Requirement already satisfied: requests<3.0.0,>=2.13.0 in /usr/local/lib/python3.10/dist-packages (from spacy->tjdatasets@ git+https://github.com/GiliardGodoi/tj-datasets@april-24) (2.31.0)\n",
            "Requirement already satisfied: pydantic!=1.8,!=1.8.1,<3.0.0,>=1.7.4 in /usr/local/lib/python3.10/dist-packages (from spacy->tjdatasets@ git+https://github.com/GiliardGodoi/tj-datasets@april-24) (2.6.4)\n",
            "Requirement already satisfied: jinja2 in /usr/local/lib/python3.10/dist-packages (from spacy->tjdatasets@ git+https://github.com/GiliardGodoi/tj-datasets@april-24) (3.1.3)\n",
            "Requirement already satisfied: setuptools in /usr/local/lib/python3.10/dist-packages (from spacy->tjdatasets@ git+https://github.com/GiliardGodoi/tj-datasets@april-24) (67.7.2)\n",
            "Requirement already satisfied: packaging>=20.0 in /usr/local/lib/python3.10/dist-packages (from spacy->tjdatasets@ git+https://github.com/GiliardGodoi/tj-datasets@april-24) (24.0)\n",
            "Requirement already satisfied: langcodes<4.0.0,>=3.2.0 in /usr/local/lib/python3.10/dist-packages (from spacy->tjdatasets@ git+https://github.com/GiliardGodoi/tj-datasets@april-24) (3.3.0)\n",
            "Requirement already satisfied: annotated-types>=0.4.0 in /usr/local/lib/python3.10/dist-packages (from pydantic!=1.8,!=1.8.1,<3.0.0,>=1.7.4->spacy->tjdatasets@ git+https://github.com/GiliardGodoi/tj-datasets@april-24) (0.6.0)\n",
            "Requirement already satisfied: pydantic-core==2.16.3 in /usr/local/lib/python3.10/dist-packages (from pydantic!=1.8,!=1.8.1,<3.0.0,>=1.7.4->spacy->tjdatasets@ git+https://github.com/GiliardGodoi/tj-datasets@april-24) (2.16.3)\n",
            "Requirement already satisfied: typing-extensions>=4.6.1 in /usr/local/lib/python3.10/dist-packages (from pydantic!=1.8,!=1.8.1,<3.0.0,>=1.7.4->spacy->tjdatasets@ git+https://github.com/GiliardGodoi/tj-datasets@april-24) (4.11.0)\n",
            "Requirement already satisfied: six>=1.5 in /usr/local/lib/python3.10/dist-packages (from python-dateutil>=2.8.2->pandas->tjdatasets@ git+https://github.com/GiliardGodoi/tj-datasets@april-24) (1.16.0)\n",
            "Requirement already satisfied: charset-normalizer<4,>=2 in /usr/local/lib/python3.10/dist-packages (from requests<3.0.0,>=2.13.0->spacy->tjdatasets@ git+https://github.com/GiliardGodoi/tj-datasets@april-24) (3.3.2)\n",
            "Requirement already satisfied: idna<4,>=2.5 in /usr/local/lib/python3.10/dist-packages (from requests<3.0.0,>=2.13.0->spacy->tjdatasets@ git+https://github.com/GiliardGodoi/tj-datasets@april-24) (3.6)\n",
            "Requirement already satisfied: urllib3<3,>=1.21.1 in /usr/local/lib/python3.10/dist-packages (from requests<3.0.0,>=2.13.0->spacy->tjdatasets@ git+https://github.com/GiliardGodoi/tj-datasets@april-24) (2.0.7)\n",
            "Requirement already satisfied: certifi>=2017.4.17 in /usr/local/lib/python3.10/dist-packages (from requests<3.0.0,>=2.13.0->spacy->tjdatasets@ git+https://github.com/GiliardGodoi/tj-datasets@april-24) (2024.2.2)\n",
            "Requirement already satisfied: blis<0.8.0,>=0.7.8 in /usr/local/lib/python3.10/dist-packages (from thinc<8.3.0,>=8.2.2->spacy->tjdatasets@ git+https://github.com/GiliardGodoi/tj-datasets@april-24) (0.7.11)\n",
            "Requirement already satisfied: confection<1.0.0,>=0.0.1 in /usr/local/lib/python3.10/dist-packages (from thinc<8.3.0,>=8.2.2->spacy->tjdatasets@ git+https://github.com/GiliardGodoi/tj-datasets@april-24) (0.1.4)\n",
            "Requirement already satisfied: cloudpathlib<0.17.0,>=0.7.0 in /usr/local/lib/python3.10/dist-packages (from weasel<0.4.0,>=0.1.0->spacy->tjdatasets@ git+https://github.com/GiliardGodoi/tj-datasets@april-24) (0.16.0)\n",
            "Requirement already satisfied: MarkupSafe>=2.0 in /usr/local/lib/python3.10/dist-packages (from jinja2->spacy->tjdatasets@ git+https://github.com/GiliardGodoi/tj-datasets@april-24) (2.1.5)\n",
            "Building wheels for collected packages: tjdatasets\n",
            "  Building wheel for tjdatasets (pyproject.toml) ... \u001b[?25l\u001b[?25hdone\n",
            "  Created wheel for tjdatasets: filename=tjdatasets-0.0.3-py3-none-any.whl size=18453 sha256=b6fca4b48184aca4d544738bfa27d78947ebe610f08671732bac9f091d88bb1c\n",
            "  Stored in directory: /tmp/pip-ephem-wheel-cache-70yotng2/wheels/e2/dc/91/364cd92e901385d942374d0a97efed80d772c4cb07b326980b\n",
            "Successfully built tjdatasets\n",
            "Installing collected packages: tjdatasets\n",
            "Successfully installed tjdatasets-0.0.3\n"
          ]
        }
      ]
    },
    {
      "cell_type": "code",
      "source": [
        "import pandas as pd\n",
        "\n",
        "from pathlib import Path"
      ],
      "metadata": {
        "id": "foPQSycGRnu4"
      },
      "execution_count": null,
      "outputs": []
    },
    {
      "cell_type": "code",
      "source": [
        "from tjdatasets.fragmentador import processa_acordao"
      ],
      "metadata": {
        "colab": {
          "base_uri": "https://localhost:8080/"
        },
        "id": "PSVS99jZSKGl",
        "outputId": "2be70454-fd1c-4b06-af67-a876ca6a205a"
      },
      "execution_count": null,
      "outputs": [
        {
          "output_type": "stream",
          "name": "stderr",
          "text": [
            "[nltk_data] Downloading package punkt to /root/nltk_data...\n",
            "[nltk_data]   Unzipping tokenizers/punkt.zip.\n",
            "[nltk_data] Downloading package rslp to /root/nltk_data...\n",
            "[nltk_data]   Unzipping stemmers/rslp.zip.\n",
            "[nltk_data] Downloading package stopwords to /root/nltk_data...\n",
            "[nltk_data]   Unzipping corpora/stopwords.zip.\n"
          ]
        }
      ]
    },
    {
      "cell_type": "code",
      "source": [
        "from tjdatasets.utils import (PATTERN_REMOVE_SPECIAL_CHARS,\n",
        "                              PATTERN_REMOVE_EXTRA_SPACE)"
      ],
      "metadata": {
        "id": "Vp00bz9qS_6X"
      },
      "execution_count": null,
      "outputs": []
    },
    {
      "cell_type": "code",
      "source": [
        "BASE_FOLDER = Path('/content/drive/Shareddrives/Projeto_TJSP/Projeto Análise de Precedentes/Datasets/base_set_2023/RAW')\n",
        "OUTPUT_FOLDER = Path('/content/drive/Shareddrives/Projeto_TJSP_Datasets/Datasets/base_abril_2024/PREPROCESSED')\n",
        "\n",
        "base_33k_filepath = BASE_FOLDER / \"acordaos_principais_33k.csv\"\n",
        "base_40k_filepath = BASE_FOLDER / \"acordaos_principais_40k.csv\"\n",
        "\n",
        "assert base_33k_filepath.exists()\n",
        "assert base_40k_filepath.exists()\n",
        "assert OUTPUT_FOLDER.exists()"
      ],
      "metadata": {
        "id": "YcuCK9WGRnqq"
      },
      "execution_count": null,
      "outputs": []
    },
    {
      "cell_type": "code",
      "source": [
        "for filepath in [base_33k_filepath, base_40k_filepath]:\n",
        "    print('Processando...', filepath.name)\n",
        "\n",
        "    df = pd.read_csv(filepath, encoding='utf8')\n",
        "    print('Lido...', df.shape)\n",
        "    df['formatado'] = (df['conteudo']\n",
        "                   .str.replace(PATTERN_REMOVE_SPECIAL_CHARS, ' ', regex=True)\n",
        "                   .str.replace(PATTERN_REMOVE_EXTRA_SPACE, ' ', regex=True)\n",
        "                   .str.lower()\n",
        "                   .str.translate( str.maketrans('áàãâäéèêëóòõôöíìîïúùüç', 'aaaaaeeeeoooooiiiiuuuc'))\n",
        "                   )\n",
        "\n",
        "    frame = (df.apply(processa_acordao, text_column='formatado', axis=1)\n",
        "                    .apply(pd.Series))\n",
        "\n",
        "    dest = OUTPUT_FOLDER / f'{filepath.stem}_Fragmentos.parquet.gzip'\n",
        "    print('Salvando...', dest)\n",
        "    frame.to_parquet(dest, compression='gzip', index=False)"
      ],
      "metadata": {
        "colab": {
          "base_uri": "https://localhost:8080/"
        },
        "id": "UW3meBksRwaq",
        "outputId": "111e7c48-0f01-4e91-fdd6-429624d7cef3"
      },
      "execution_count": null,
      "outputs": [
        {
          "output_type": "stream",
          "name": "stdout",
          "text": [
            "Processando... acordaos_principais_33k.csv\n",
            "Lido... (33016, 5)\n",
            "Salvando... /content/drive/Shareddrives/Projeto_TJSP_Datasets/Datasets/base_abril_2024/PREPROCESSED/acordaos_principais_33k_Fragmentos.parquet.gzip\n",
            "Processando... acordaos_principais_40k.csv\n",
            "Lido... (41374, 5)\n",
            "Salvando... /content/drive/Shareddrives/Projeto_TJSP_Datasets/Datasets/base_abril_2024/PREPROCESSED/acordaos_principais_40k_Fragmentos.parquet.gzip\n"
          ]
        }
      ]
    },
    {
      "cell_type": "code",
      "source": [
        "frame.info()"
      ],
      "metadata": {
        "colab": {
          "base_uri": "https://localhost:8080/"
        },
        "id": "8cZOloktTE7x",
        "outputId": "1c0697c3-e8f7-4b51-c995-a4205eaa9c3c"
      },
      "execution_count": null,
      "outputs": [
        {
          "output_type": "stream",
          "name": "stdout",
          "text": [
            "<class 'pandas.core.frame.DataFrame'>\n",
            "RangeIndex: 41374 entries, 0 to 41373\n",
            "Data columns (total 13 columns):\n",
            " #   Column                 Non-Null Count  Dtype \n",
            "---  ------                 --------------  ----- \n",
            " 0   nome_relator           41374 non-null  object\n",
            " 1   nome_relator_regra     41374 non-null  int64 \n",
            " 2   decisao_acordao        41374 non-null  object\n",
            " 3   decisao_acordao_regra  41374 non-null  int64 \n",
            " 4   decisao_unanime        41374 non-null  bool  \n",
            " 5   voto_relator           41374 non-null  object\n",
            " 6   voto_relator_regra     41374 non-null  int64 \n",
            " 7   relatorio              33180 non-null  object\n",
            " 8   relatorio_regra        41374 non-null  int64 \n",
            " 9   fundamentacao          33180 non-null  object\n",
            " 10  fundamentacao_regra    41374 non-null  int64 \n",
            " 11  voto_divergente        2057 non-null   object\n",
            " 12  voto_divergente_regra  41374 non-null  int64 \n",
            "dtypes: bool(1), int64(6), object(6)\n",
            "memory usage: 3.8+ MB\n"
          ]
        }
      ]
    },
    {
      "cell_type": "code",
      "source": [],
      "metadata": {
        "id": "0HorJWw1TP05"
      },
      "execution_count": null,
      "outputs": []
    }
  ]
}