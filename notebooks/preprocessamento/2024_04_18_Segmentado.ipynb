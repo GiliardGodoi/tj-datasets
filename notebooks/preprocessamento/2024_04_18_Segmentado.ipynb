{
  "nbformat": 4,
  "nbformat_minor": 0,
  "metadata": {
    "colab": {
      "provenance": [],
      "machine_shape": "hm",
      "authorship_tag": "ABX9TyMKtHFQimMjW/L86JPvbSu+",
      "include_colab_link": true
    },
    "kernelspec": {
      "name": "python3",
      "display_name": "Python 3"
    },
    "language_info": {
      "name": "python"
    }
  },
  "cells": [
    {
      "cell_type": "markdown",
      "metadata": {
        "id": "view-in-github",
        "colab_type": "text"
      },
      "source": [
        "<a href=\"https://colab.research.google.com/github/GiliardGodoi/tj-datasets/blob/main/notebooks/preprocessamento/2024_04_18_Segmentado.ipynb\" target=\"_parent\"><img src=\"https://colab.research.google.com/assets/colab-badge.svg\" alt=\"Open In Colab\"/></a>"
      ]
    },
    {
      "cell_type": "code",
      "execution_count": null,
      "metadata": {
        "id": "lWUsqPYZUJGW",
        "colab": {
          "base_uri": "https://localhost:8080/"
        },
        "outputId": "179153c1-e1c0-4f9d-f209-73a23f4e4b9e"
      },
      "outputs": [
        {
          "output_type": "stream",
          "name": "stdout",
          "text": [
            "Mounted at /content/drive\n"
          ]
        }
      ],
      "source": [
        "from google.colab import drive, userdata\n",
        "drive.mount('/content/drive')"
      ]
    },
    {
      "cell_type": "code",
      "source": [
        "!pip install \"tjdatasets @ git+https://github.com/GiliardGodoi/tj-datasets@april-24\""
      ],
      "metadata": {
        "colab": {
          "base_uri": "https://localhost:8080/"
        },
        "id": "7ZndLyz2ZEU6",
        "outputId": "b5a0748c-73f6-4aa6-d3cf-6e7b47a7c5bf"
      },
      "execution_count": null,
      "outputs": [
        {
          "output_type": "stream",
          "name": "stdout",
          "text": [
            "Collecting tjdatasets@ git+https://github.com/GiliardGodoi/tj-datasets@april-24\n",
            "  Cloning https://github.com/GiliardGodoi/tj-datasets (to revision april-24) to /tmp/pip-install-amk0vl8y/tjdatasets_daa6041328c74901b38eeefe64a1dcb8\n",
            "  Running command git clone --filter=blob:none --quiet https://github.com/GiliardGodoi/tj-datasets /tmp/pip-install-amk0vl8y/tjdatasets_daa6041328c74901b38eeefe64a1dcb8\n",
            "  Running command git checkout -b april-24 --track origin/april-24\n",
            "  Switched to a new branch 'april-24'\n",
            "  Branch 'april-24' set up to track remote branch 'april-24' from 'origin'.\n",
            "  Resolved https://github.com/GiliardGodoi/tj-datasets to commit eede31ef99c60a46d1ff7a586f9ef436fefe4320\n",
            "  Installing build dependencies ... \u001b[?25l\u001b[?25hdone\n",
            "  Getting requirements to build wheel ... \u001b[?25l\u001b[?25hdone\n",
            "  Installing backend dependencies ... \u001b[?25l\u001b[?25hdone\n",
            "  Preparing metadata (pyproject.toml) ... \u001b[?25l\u001b[?25hdone\n",
            "Requirement already satisfied: pandas in /usr/local/lib/python3.10/dist-packages (from tjdatasets@ git+https://github.com/GiliardGodoi/tj-datasets@april-24) (2.0.3)\n",
            "Requirement already satisfied: scikit-learn in /usr/local/lib/python3.10/dist-packages (from tjdatasets@ git+https://github.com/GiliardGodoi/tj-datasets@april-24) (1.2.2)\n",
            "Requirement already satisfied: nltk in /usr/local/lib/python3.10/dist-packages (from tjdatasets@ git+https://github.com/GiliardGodoi/tj-datasets@april-24) (3.8.1)\n",
            "Requirement already satisfied: spacy in /usr/local/lib/python3.10/dist-packages (from tjdatasets@ git+https://github.com/GiliardGodoi/tj-datasets@april-24) (3.7.4)\n",
            "Requirement already satisfied: click in /usr/local/lib/python3.10/dist-packages (from nltk->tjdatasets@ git+https://github.com/GiliardGodoi/tj-datasets@april-24) (8.1.7)\n",
            "Requirement already satisfied: joblib in /usr/local/lib/python3.10/dist-packages (from nltk->tjdatasets@ git+https://github.com/GiliardGodoi/tj-datasets@april-24) (1.4.0)\n",
            "Requirement already satisfied: regex>=2021.8.3 in /usr/local/lib/python3.10/dist-packages (from nltk->tjdatasets@ git+https://github.com/GiliardGodoi/tj-datasets@april-24) (2023.12.25)\n",
            "Requirement already satisfied: tqdm in /usr/local/lib/python3.10/dist-packages (from nltk->tjdatasets@ git+https://github.com/GiliardGodoi/tj-datasets@april-24) (4.66.2)\n",
            "Requirement already satisfied: python-dateutil>=2.8.2 in /usr/local/lib/python3.10/dist-packages (from pandas->tjdatasets@ git+https://github.com/GiliardGodoi/tj-datasets@april-24) (2.8.2)\n",
            "Requirement already satisfied: pytz>=2020.1 in /usr/local/lib/python3.10/dist-packages (from pandas->tjdatasets@ git+https://github.com/GiliardGodoi/tj-datasets@april-24) (2023.4)\n",
            "Requirement already satisfied: tzdata>=2022.1 in /usr/local/lib/python3.10/dist-packages (from pandas->tjdatasets@ git+https://github.com/GiliardGodoi/tj-datasets@april-24) (2024.1)\n",
            "Requirement already satisfied: numpy>=1.21.0 in /usr/local/lib/python3.10/dist-packages (from pandas->tjdatasets@ git+https://github.com/GiliardGodoi/tj-datasets@april-24) (1.25.2)\n",
            "Requirement already satisfied: scipy>=1.3.2 in /usr/local/lib/python3.10/dist-packages (from scikit-learn->tjdatasets@ git+https://github.com/GiliardGodoi/tj-datasets@april-24) (1.11.4)\n",
            "Requirement already satisfied: threadpoolctl>=2.0.0 in /usr/local/lib/python3.10/dist-packages (from scikit-learn->tjdatasets@ git+https://github.com/GiliardGodoi/tj-datasets@april-24) (3.4.0)\n",
            "Requirement already satisfied: spacy-legacy<3.1.0,>=3.0.11 in /usr/local/lib/python3.10/dist-packages (from spacy->tjdatasets@ git+https://github.com/GiliardGodoi/tj-datasets@april-24) (3.0.12)\n",
            "Requirement already satisfied: spacy-loggers<2.0.0,>=1.0.0 in /usr/local/lib/python3.10/dist-packages (from spacy->tjdatasets@ git+https://github.com/GiliardGodoi/tj-datasets@april-24) (1.0.5)\n",
            "Requirement already satisfied: murmurhash<1.1.0,>=0.28.0 in /usr/local/lib/python3.10/dist-packages (from spacy->tjdatasets@ git+https://github.com/GiliardGodoi/tj-datasets@april-24) (1.0.10)\n",
            "Requirement already satisfied: cymem<2.1.0,>=2.0.2 in /usr/local/lib/python3.10/dist-packages (from spacy->tjdatasets@ git+https://github.com/GiliardGodoi/tj-datasets@april-24) (2.0.8)\n",
            "Requirement already satisfied: preshed<3.1.0,>=3.0.2 in /usr/local/lib/python3.10/dist-packages (from spacy->tjdatasets@ git+https://github.com/GiliardGodoi/tj-datasets@april-24) (3.0.9)\n",
            "Requirement already satisfied: thinc<8.3.0,>=8.2.2 in /usr/local/lib/python3.10/dist-packages (from spacy->tjdatasets@ git+https://github.com/GiliardGodoi/tj-datasets@april-24) (8.2.3)\n",
            "Requirement already satisfied: wasabi<1.2.0,>=0.9.1 in /usr/local/lib/python3.10/dist-packages (from spacy->tjdatasets@ git+https://github.com/GiliardGodoi/tj-datasets@april-24) (1.1.2)\n",
            "Requirement already satisfied: srsly<3.0.0,>=2.4.3 in /usr/local/lib/python3.10/dist-packages (from spacy->tjdatasets@ git+https://github.com/GiliardGodoi/tj-datasets@april-24) (2.4.8)\n",
            "Requirement already satisfied: catalogue<2.1.0,>=2.0.6 in /usr/local/lib/python3.10/dist-packages (from spacy->tjdatasets@ git+https://github.com/GiliardGodoi/tj-datasets@april-24) (2.0.10)\n",
            "Requirement already satisfied: weasel<0.4.0,>=0.1.0 in /usr/local/lib/python3.10/dist-packages (from spacy->tjdatasets@ git+https://github.com/GiliardGodoi/tj-datasets@april-24) (0.3.4)\n",
            "Requirement already satisfied: typer<0.10.0,>=0.3.0 in /usr/local/lib/python3.10/dist-packages (from spacy->tjdatasets@ git+https://github.com/GiliardGodoi/tj-datasets@april-24) (0.9.4)\n",
            "Requirement already satisfied: smart-open<7.0.0,>=5.2.1 in /usr/local/lib/python3.10/dist-packages (from spacy->tjdatasets@ git+https://github.com/GiliardGodoi/tj-datasets@april-24) (6.4.0)\n",
            "Requirement already satisfied: requests<3.0.0,>=2.13.0 in /usr/local/lib/python3.10/dist-packages (from spacy->tjdatasets@ git+https://github.com/GiliardGodoi/tj-datasets@april-24) (2.31.0)\n",
            "Requirement already satisfied: pydantic!=1.8,!=1.8.1,<3.0.0,>=1.7.4 in /usr/local/lib/python3.10/dist-packages (from spacy->tjdatasets@ git+https://github.com/GiliardGodoi/tj-datasets@april-24) (2.7.1)\n",
            "Requirement already satisfied: jinja2 in /usr/local/lib/python3.10/dist-packages (from spacy->tjdatasets@ git+https://github.com/GiliardGodoi/tj-datasets@april-24) (3.1.3)\n",
            "Requirement already satisfied: setuptools in /usr/local/lib/python3.10/dist-packages (from spacy->tjdatasets@ git+https://github.com/GiliardGodoi/tj-datasets@april-24) (67.7.2)\n",
            "Requirement already satisfied: packaging>=20.0 in /usr/local/lib/python3.10/dist-packages (from spacy->tjdatasets@ git+https://github.com/GiliardGodoi/tj-datasets@april-24) (24.0)\n",
            "Requirement already satisfied: langcodes<4.0.0,>=3.2.0 in /usr/local/lib/python3.10/dist-packages (from spacy->tjdatasets@ git+https://github.com/GiliardGodoi/tj-datasets@april-24) (3.4.0)\n",
            "Requirement already satisfied: language-data>=1.2 in /usr/local/lib/python3.10/dist-packages (from langcodes<4.0.0,>=3.2.0->spacy->tjdatasets@ git+https://github.com/GiliardGodoi/tj-datasets@april-24) (1.2.0)\n",
            "Requirement already satisfied: annotated-types>=0.4.0 in /usr/local/lib/python3.10/dist-packages (from pydantic!=1.8,!=1.8.1,<3.0.0,>=1.7.4->spacy->tjdatasets@ git+https://github.com/GiliardGodoi/tj-datasets@april-24) (0.6.0)\n",
            "Requirement already satisfied: pydantic-core==2.18.2 in /usr/local/lib/python3.10/dist-packages (from pydantic!=1.8,!=1.8.1,<3.0.0,>=1.7.4->spacy->tjdatasets@ git+https://github.com/GiliardGodoi/tj-datasets@april-24) (2.18.2)\n",
            "Requirement already satisfied: typing-extensions>=4.6.1 in /usr/local/lib/python3.10/dist-packages (from pydantic!=1.8,!=1.8.1,<3.0.0,>=1.7.4->spacy->tjdatasets@ git+https://github.com/GiliardGodoi/tj-datasets@april-24) (4.11.0)\n",
            "Requirement already satisfied: six>=1.5 in /usr/local/lib/python3.10/dist-packages (from python-dateutil>=2.8.2->pandas->tjdatasets@ git+https://github.com/GiliardGodoi/tj-datasets@april-24) (1.16.0)\n",
            "Requirement already satisfied: charset-normalizer<4,>=2 in /usr/local/lib/python3.10/dist-packages (from requests<3.0.0,>=2.13.0->spacy->tjdatasets@ git+https://github.com/GiliardGodoi/tj-datasets@april-24) (3.3.2)\n",
            "Requirement already satisfied: idna<4,>=2.5 in /usr/local/lib/python3.10/dist-packages (from requests<3.0.0,>=2.13.0->spacy->tjdatasets@ git+https://github.com/GiliardGodoi/tj-datasets@april-24) (3.7)\n",
            "Requirement already satisfied: urllib3<3,>=1.21.1 in /usr/local/lib/python3.10/dist-packages (from requests<3.0.0,>=2.13.0->spacy->tjdatasets@ git+https://github.com/GiliardGodoi/tj-datasets@april-24) (2.0.7)\n",
            "Requirement already satisfied: certifi>=2017.4.17 in /usr/local/lib/python3.10/dist-packages (from requests<3.0.0,>=2.13.0->spacy->tjdatasets@ git+https://github.com/GiliardGodoi/tj-datasets@april-24) (2024.2.2)\n",
            "Requirement already satisfied: blis<0.8.0,>=0.7.8 in /usr/local/lib/python3.10/dist-packages (from thinc<8.3.0,>=8.2.2->spacy->tjdatasets@ git+https://github.com/GiliardGodoi/tj-datasets@april-24) (0.7.11)\n",
            "Requirement already satisfied: confection<1.0.0,>=0.0.1 in /usr/local/lib/python3.10/dist-packages (from thinc<8.3.0,>=8.2.2->spacy->tjdatasets@ git+https://github.com/GiliardGodoi/tj-datasets@april-24) (0.1.4)\n",
            "Requirement already satisfied: cloudpathlib<0.17.0,>=0.7.0 in /usr/local/lib/python3.10/dist-packages (from weasel<0.4.0,>=0.1.0->spacy->tjdatasets@ git+https://github.com/GiliardGodoi/tj-datasets@april-24) (0.16.0)\n",
            "Requirement already satisfied: MarkupSafe>=2.0 in /usr/local/lib/python3.10/dist-packages (from jinja2->spacy->tjdatasets@ git+https://github.com/GiliardGodoi/tj-datasets@april-24) (2.1.5)\n",
            "Requirement already satisfied: marisa-trie>=0.7.7 in /usr/local/lib/python3.10/dist-packages (from language-data>=1.2->langcodes<4.0.0,>=3.2.0->spacy->tjdatasets@ git+https://github.com/GiliardGodoi/tj-datasets@april-24) (1.1.0)\n",
            "Building wheels for collected packages: tjdatasets\n",
            "  Building wheel for tjdatasets (pyproject.toml) ... \u001b[?25l\u001b[?25hdone\n",
            "  Created wheel for tjdatasets: filename=tjdatasets-0.0.3-py3-none-any.whl size=18453 sha256=db20bdf7d23bae7fe1eb997526a6c3f6ce1cc90b50d69df06aefa2f39f5bc9fa\n",
            "  Stored in directory: /tmp/pip-ephem-wheel-cache-2lysae_s/wheels/e2/dc/91/364cd92e901385d942374d0a97efed80d772c4cb07b326980b\n",
            "Successfully built tjdatasets\n",
            "Installing collected packages: tjdatasets\n",
            "Successfully installed tjdatasets-0.0.3\n"
          ]
        }
      ]
    },
    {
      "cell_type": "code",
      "source": [
        "import pandas as pd\n",
        "import re\n",
        "\n",
        "from pathlib import Path"
      ],
      "metadata": {
        "id": "9JPPX_w_ZN-i"
      },
      "execution_count": null,
      "outputs": []
    },
    {
      "cell_type": "code",
      "source": [
        "from tjdatasets.segmentador import sentencizer, SEGMENT_EXPRESSIONS"
      ],
      "metadata": {
        "colab": {
          "base_uri": "https://localhost:8080/"
        },
        "id": "ppJyESLYZyp0",
        "outputId": "5767c195-a134-45b3-9159-31a2ff28bfd9"
      },
      "execution_count": null,
      "outputs": [
        {
          "output_type": "stream",
          "name": "stderr",
          "text": [
            "[nltk_data] Downloading package punkt to /root/nltk_data...\n",
            "[nltk_data]   Unzipping tokenizers/punkt.zip.\n",
            "[nltk_data] Downloading package rslp to /root/nltk_data...\n",
            "[nltk_data]   Unzipping stemmers/rslp.zip.\n",
            "[nltk_data] Downloading package stopwords to /root/nltk_data...\n",
            "[nltk_data]   Unzipping corpora/stopwords.zip.\n"
          ]
        }
      ]
    },
    {
      "cell_type": "code",
      "source": [
        "from ipywidgets import Box, Layout, Textarea, IntText, BoundedIntText\n",
        "\n",
        "def display(df, index, left_column='conteudo', right_column='formatado'):\n",
        "    # index = 9578 # @param {type:\"number\"}\n",
        "\n",
        "    layout = Layout(width='550px', height='600px')\n",
        "    left = Textarea(value=df.loc[index, left_column], layout=layout, description=\"Original:\")\n",
        "    right = Textarea(value=df.loc[index, right_column], layout=layout, description='Processado:')\n",
        "\n",
        "    return Box([left, right])"
      ],
      "metadata": {
        "id": "-6Tj7AEqZPfJ"
      },
      "execution_count": null,
      "outputs": []
    },
    {
      "cell_type": "code",
      "source": [
        "BASE_FOLDER = Path('/content/drive/Shareddrives/Projeto_TJSP_Datasets/Datasets/base_abril_2024/PREPROCESSED')\n",
        "OUTPUT_FOLDER = Path('/content/drive/Shareddrives/Projeto_TJSP_Datasets/Datasets/base_abril_2024/PREPROCESSED')\n",
        "\n",
        "base_33k_filepath = BASE_FOLDER / \"acordaos_principais_33k_Processado.parquet.gzip\"\n",
        "base_40k_filepath = BASE_FOLDER / \"acordaos_principais_40k_Processado.parquet.gzip\"\n",
        "\n",
        "assert base_33k_filepath.exists()\n",
        "assert base_40k_filepath.exists()\n"
      ],
      "metadata": {
        "id": "Ij5_yPsFZRiQ"
      },
      "execution_count": null,
      "outputs": []
    },
    {
      "cell_type": "code",
      "source": [
        "def __segmentar(frame: pd.DataFrame, segment_name: str, column_senteces: str):\n",
        "    '''\n",
        "    '''\n",
        "    column_segment = f'segmento_{segment_name}'\n",
        "    frame['contains'] = False\n",
        "\n",
        "    for expression in SEGMENT_EXPRESSIONS[segment_name]:\n",
        "            # pandas, assim como Python, suporta algo chamado short-circuit evaluation\n",
        "            frame['contains'] = frame['contains'] | frame[column_senteces].str.contains(expression, regex=True, flags=re.I)\n",
        "\n",
        "    return (frame.loc[lambda x: x['contains'] == True]\n",
        "                .groupby(['numero_processo'])\n",
        "                .agg({column_senteces: lambda values: ' '.join(values)})\n",
        "                .rename(columns={column_senteces : column_segment })\n",
        "            )\n",
        "\n",
        "def obter_todos_segmentos(df : pd.DataFrame, text_column):\n",
        "    '''\n",
        "    '''\n",
        "    print('...')\n",
        "    columns_dtypes = {column: df[column].dtype for column in df.columns}\n",
        "    columns_dtypes.update(dict(numero_processo='category',\n",
        "                                    id_documento='category',\n",
        "                                    conteudo='string',\n",
        "                                    formatado_limpo='string',\n",
        "                                    codigos_movimentos_temas='string')\n",
        "                        )\n",
        "    df = df.astype(columns_dtypes)\n",
        "\n",
        "    # Essa é a parte do código que mais demora para executar\n",
        "    frame = df[['numero_processo', 'id_documento']].copy()\n",
        "    frame['sentences'] = df[text_column].apply(sentencizer)\n",
        "    frame = frame.explode('sentences')\n",
        "\n",
        "    segmento_lei     = __segmentar(frame, segment_name='lei', column_senteces='sentences')\n",
        "    segmento_fato    = __segmentar(frame, segment_name='fato', column_senteces='sentences')\n",
        "    segmento_decisao = __segmentar(frame, segment_name='decisao', column_senteces='sentences')\n",
        "    segmento_pedido  = __segmentar(frame, segment_name='pedido', column_senteces='sentences')\n",
        "\n",
        "    columns = [\n",
        "        'numero_processo',\n",
        "        'id_documento',\n",
        "        'data_hora_documento',\n",
        "        'codigos_movimentos_temas',\n",
        "    ]\n",
        "\n",
        "    result = pd.merge(df[columns], segmento_lei, how='left', left_on='numero_processo', right_index=True)\n",
        "    result = pd.merge(result, segmento_fato, how='left', left_on='numero_processo', right_index=True)\n",
        "    result = pd.merge(result, segmento_decisao, how='left', left_on='numero_processo', right_index=True)\n",
        "    result = pd.merge(result, segmento_pedido, how='left', left_on='numero_processo', right_index=True)\n",
        "\n",
        "    return result"
      ],
      "metadata": {
        "id": "72JC7iq4sgTl"
      },
      "execution_count": null,
      "outputs": []
    },
    {
      "cell_type": "code",
      "source": [
        "for filepath in [base_33k_filepath, base_40k_filepath]:\n",
        "    print('Processando...', filepath.name)\n",
        "\n",
        "    df = pd.read_parquet(filepath)\n",
        "    print('Lido...', df.shape)\n",
        "    print(df.columns)\n",
        "\n",
        "    frame = obter_todos_segmentos(df, text_column='formatado_limpo')\n",
        "\n",
        "    tmp = str.replace(filepath.name, 'Processado', 'Segmentado')\n",
        "    print('Salvando em...', tmp)\n",
        "    print('Segmentos:...', frame.shape)\n",
        "    print(frame.columns)\n",
        "    dest = OUTPUT_FOLDER / f\"{tmp}\"\n",
        "    frame.to_parquet(dest, compression='gzip')\n",
        "\n",
        "    print('Salvo...', dest)"
      ],
      "metadata": {
        "colab": {
          "base_uri": "https://localhost:8080/"
        },
        "id": "YL5n7DlbZfYv",
        "outputId": "22c38389-8630-48fe-81fe-0ac52341e6be"
      },
      "execution_count": null,
      "outputs": [
        {
          "output_type": "stream",
          "name": "stdout",
          "text": [
            "Processando... acordaos_principais_33k_Processado.parquet.gzip\n",
            "Lido... (33016, 7)\n",
            "Index(['numero_processo', 'id_documento', 'conteudo', 'data_hora_documento',\n",
            "       'codigos_movimentos_temas', 'formatado_limpo', 'formatado_normalizado'],\n",
            "      dtype='object')\n",
            "...\n",
            "Salvando em... acordaos_principais_33k_Segmentado.parquet.gzip\n",
            "Segmentos:... (33016, 8)\n",
            "Index(['numero_processo', 'id_documento', 'data_hora_documento',\n",
            "       'codigos_movimentos_temas', 'segmento_lei', 'segmento_fato',\n",
            "       'segmento_decisao', 'segmento_pedido'],\n",
            "      dtype='object')\n",
            "Salvo... /content/drive/Shareddrives/Projeto_TJSP_Datasets/Datasets/base_abril_2024/PREPROCESSED/acordaos_principais_33k_Segmentado.parquet.gzip\n",
            "Processando... acordaos_principais_40k_Processado.parquet.gzip\n",
            "Lido... (41374, 7)\n",
            "Index(['numero_processo', 'id_documento', 'data_hora_documento', 'conteudo',\n",
            "       'codigos_movimentos_temas', 'formatado_limpo', 'formatado_normalizado'],\n",
            "      dtype='object')\n",
            "...\n",
            "Salvando em... acordaos_principais_40k_Segmentado.parquet.gzip\n",
            "Segmentos:... (41374, 8)\n",
            "Index(['numero_processo', 'id_documento', 'data_hora_documento',\n",
            "       'codigos_movimentos_temas', 'segmento_lei', 'segmento_fato',\n",
            "       'segmento_decisao', 'segmento_pedido'],\n",
            "      dtype='object')\n",
            "Salvo... /content/drive/Shareddrives/Projeto_TJSP_Datasets/Datasets/base_abril_2024/PREPROCESSED/acordaos_principais_40k_Segmentado.parquet.gzip\n"
          ]
        }
      ]
    },
    {
      "cell_type": "code",
      "source": [],
      "metadata": {
        "id": "hLQCZUFyr5yv"
      },
      "execution_count": null,
      "outputs": []
    }
  ]
}