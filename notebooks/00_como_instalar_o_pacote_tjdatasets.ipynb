{
  "nbformat": 4,
  "nbformat_minor": 0,
  "metadata": {
    "colab": {
      "provenance": [],
      "authorship_tag": "ABX9TyOrngOa8GnKnVjvpSMSDcT4",
      "include_colab_link": true
    },
    "kernelspec": {
      "name": "python3",
      "display_name": "Python 3"
    },
    "language_info": {
      "name": "python"
    }
  },
  "cells": [
    {
      "cell_type": "markdown",
      "metadata": {
        "id": "view-in-github",
        "colab_type": "text"
      },
      "source": [
        "<a href=\"https://colab.research.google.com/github/GiliardGodoi/tj-datasets/blob/march-24-version/notebooks/00_como_instalar_o_pacote_tjdatasets.ipynb\" target=\"_parent\"><img src=\"https://colab.research.google.com/assets/colab-badge.svg\" alt=\"Open In Colab\"/></a>"
      ]
    },
    {
      "cell_type": "markdown",
      "source": [
        "# Como instalar o pacote `tjdatasets`\n",
        "\n",
        "O presente *notebook* explora diversas formas de instalar o pacote `tjdatasets`\n",
        "\n",
        "## Referências\n",
        "\n",
        "- <https://pip.pypa.io/en/stable/cli/pip_install/>\n",
        "- <https://setuptools.pypa.io/en/latest/userguide/pyproject_config.html>\n",
        "- <https://github.com/explosion/spacy-models/releases/tag/pt_core_news_lg-3.7.0>\n",
        "- <https://spacy.io/models/pt/>"
      ],
      "metadata": {
        "id": "Xc9ZiiuaEeVU"
      }
    },
    {
      "cell_type": "markdown",
      "source": [
        "# Instalar direto do repositório do Github\n",
        "\n",
        "Podemos instalar o pacote direto do repositório e ainda instalar de um *branch* específico pelo comando:\n",
        "\n",
        "\n",
        "\n",
        "```cmd\n",
        "!pip install \"nome-projeto @ git+https://github.com/usuario/url-do-repositorio@nome-branch\"\n",
        "```\n",
        "\n",
        "- Podemos utilizar a opção `--quiet` para reduzir a quantidade de informações exibidas durante a instalação.\n",
        "\n",
        "- Repare que também podemos instalar o projeto com algumas dependências opcionais. Na célula abaixo estamos instalando o modelo `pt_core_news_lg` da biblioteca `spacy`, que está configurado como uma dependência opcional.\n",
        "\n"
      ],
      "metadata": {
        "id": "vQX_3MY1Ezjl"
      }
    },
    {
      "cell_type": "code",
      "execution_count": 1,
      "metadata": {
        "colab": {
          "base_uri": "https://localhost:8080/"
        },
        "id": "98b0xJx1ES2X",
        "outputId": "6fe05c82-b6c5-47f7-f22f-2a0a5537e106"
      },
      "outputs": [
        {
          "output_type": "stream",
          "name": "stdout",
          "text": [
            "Collecting tjdatasets[pt-core-news-lg]@ git+https://github.com/GiliardGodoi/tj-datasets@march-24-version\n",
            "  Cloning https://github.com/GiliardGodoi/tj-datasets (to revision march-24-version) to /tmp/pip-install-ac8nu6da/tjdatasets_acfd500420824579a3b6f6fdb6aacb11\n",
            "  Running command git clone --filter=blob:none --quiet https://github.com/GiliardGodoi/tj-datasets /tmp/pip-install-ac8nu6da/tjdatasets_acfd500420824579a3b6f6fdb6aacb11\n",
            "  Running command git checkout -b march-24-version --track origin/march-24-version\n",
            "  Switched to a new branch 'march-24-version'\n",
            "  Branch 'march-24-version' set up to track remote branch 'march-24-version' from 'origin'.\n",
            "  Resolved https://github.com/GiliardGodoi/tj-datasets to commit 265aea7874f581152453b4af7c0309c22f04aa08\n",
            "  Installing build dependencies ... \u001b[?25l\u001b[?25hdone\n",
            "  Getting requirements to build wheel ... \u001b[?25l\u001b[?25hdone\n",
            "  Installing backend dependencies ... \u001b[?25l\u001b[?25hdone\n",
            "  Preparing metadata (pyproject.toml) ... \u001b[?25l\u001b[?25hdone\n",
            "Collecting pt-core-news-lg@ https://github.com/explosion/spacy-models/releases/download/pt_core_news_lg-3.7.0/pt_core_news_lg-3.7.0-py3-none-any.whl (from tjdatasets[pt-core-news-lg]@ git+https://github.com/GiliardGodoi/tj-datasets@march-24-version)\n",
            "  Downloading https://github.com/explosion/spacy-models/releases/download/pt_core_news_lg-3.7.0/pt_core_news_lg-3.7.0-py3-none-any.whl (568.2 MB)\n",
            "\u001b[2K     \u001b[90m━━━━━━━━━━━━━━━━━━━━━━━━━━━━━━━━━━━━━━━━\u001b[0m \u001b[32m568.2/568.2 MB\u001b[0m \u001b[31m2.4 MB/s\u001b[0m eta \u001b[36m0:00:00\u001b[0m\n",
            "\u001b[?25hRequirement already satisfied: pandas in /usr/local/lib/python3.10/dist-packages (from tjdatasets[pt-core-news-lg]@ git+https://github.com/GiliardGodoi/tj-datasets@march-24-version) (1.5.3)\n",
            "Requirement already satisfied: scikit-learn in /usr/local/lib/python3.10/dist-packages (from tjdatasets[pt-core-news-lg]@ git+https://github.com/GiliardGodoi/tj-datasets@march-24-version) (1.2.2)\n",
            "Requirement already satisfied: nltk in /usr/local/lib/python3.10/dist-packages (from tjdatasets[pt-core-news-lg]@ git+https://github.com/GiliardGodoi/tj-datasets@march-24-version) (3.8.1)\n",
            "Requirement already satisfied: spacy in /usr/local/lib/python3.10/dist-packages (from tjdatasets[pt-core-news-lg]@ git+https://github.com/GiliardGodoi/tj-datasets@march-24-version) (3.7.4)\n",
            "Requirement already satisfied: click in /usr/local/lib/python3.10/dist-packages (from nltk->tjdatasets[pt-core-news-lg]@ git+https://github.com/GiliardGodoi/tj-datasets@march-24-version) (8.1.7)\n",
            "Requirement already satisfied: joblib in /usr/local/lib/python3.10/dist-packages (from nltk->tjdatasets[pt-core-news-lg]@ git+https://github.com/GiliardGodoi/tj-datasets@march-24-version) (1.3.2)\n",
            "Requirement already satisfied: regex>=2021.8.3 in /usr/local/lib/python3.10/dist-packages (from nltk->tjdatasets[pt-core-news-lg]@ git+https://github.com/GiliardGodoi/tj-datasets@march-24-version) (2023.12.25)\n",
            "Requirement already satisfied: tqdm in /usr/local/lib/python3.10/dist-packages (from nltk->tjdatasets[pt-core-news-lg]@ git+https://github.com/GiliardGodoi/tj-datasets@march-24-version) (4.66.2)\n",
            "Requirement already satisfied: python-dateutil>=2.8.1 in /usr/local/lib/python3.10/dist-packages (from pandas->tjdatasets[pt-core-news-lg]@ git+https://github.com/GiliardGodoi/tj-datasets@march-24-version) (2.8.2)\n",
            "Requirement already satisfied: pytz>=2020.1 in /usr/local/lib/python3.10/dist-packages (from pandas->tjdatasets[pt-core-news-lg]@ git+https://github.com/GiliardGodoi/tj-datasets@march-24-version) (2023.4)\n",
            "Requirement already satisfied: numpy>=1.21.0 in /usr/local/lib/python3.10/dist-packages (from pandas->tjdatasets[pt-core-news-lg]@ git+https://github.com/GiliardGodoi/tj-datasets@march-24-version) (1.25.2)\n",
            "Requirement already satisfied: spacy-legacy<3.1.0,>=3.0.11 in /usr/local/lib/python3.10/dist-packages (from spacy->tjdatasets[pt-core-news-lg]@ git+https://github.com/GiliardGodoi/tj-datasets@march-24-version) (3.0.12)\n",
            "Requirement already satisfied: spacy-loggers<2.0.0,>=1.0.0 in /usr/local/lib/python3.10/dist-packages (from spacy->tjdatasets[pt-core-news-lg]@ git+https://github.com/GiliardGodoi/tj-datasets@march-24-version) (1.0.5)\n",
            "Requirement already satisfied: murmurhash<1.1.0,>=0.28.0 in /usr/local/lib/python3.10/dist-packages (from spacy->tjdatasets[pt-core-news-lg]@ git+https://github.com/GiliardGodoi/tj-datasets@march-24-version) (1.0.10)\n",
            "Requirement already satisfied: cymem<2.1.0,>=2.0.2 in /usr/local/lib/python3.10/dist-packages (from spacy->tjdatasets[pt-core-news-lg]@ git+https://github.com/GiliardGodoi/tj-datasets@march-24-version) (2.0.8)\n",
            "Requirement already satisfied: preshed<3.1.0,>=3.0.2 in /usr/local/lib/python3.10/dist-packages (from spacy->tjdatasets[pt-core-news-lg]@ git+https://github.com/GiliardGodoi/tj-datasets@march-24-version) (3.0.9)\n",
            "Requirement already satisfied: thinc<8.3.0,>=8.2.2 in /usr/local/lib/python3.10/dist-packages (from spacy->tjdatasets[pt-core-news-lg]@ git+https://github.com/GiliardGodoi/tj-datasets@march-24-version) (8.2.3)\n",
            "Requirement already satisfied: wasabi<1.2.0,>=0.9.1 in /usr/local/lib/python3.10/dist-packages (from spacy->tjdatasets[pt-core-news-lg]@ git+https://github.com/GiliardGodoi/tj-datasets@march-24-version) (1.1.2)\n",
            "Requirement already satisfied: srsly<3.0.0,>=2.4.3 in /usr/local/lib/python3.10/dist-packages (from spacy->tjdatasets[pt-core-news-lg]@ git+https://github.com/GiliardGodoi/tj-datasets@march-24-version) (2.4.8)\n",
            "Requirement already satisfied: catalogue<2.1.0,>=2.0.6 in /usr/local/lib/python3.10/dist-packages (from spacy->tjdatasets[pt-core-news-lg]@ git+https://github.com/GiliardGodoi/tj-datasets@march-24-version) (2.0.10)\n",
            "Requirement already satisfied: weasel<0.4.0,>=0.1.0 in /usr/local/lib/python3.10/dist-packages (from spacy->tjdatasets[pt-core-news-lg]@ git+https://github.com/GiliardGodoi/tj-datasets@march-24-version) (0.3.4)\n",
            "Requirement already satisfied: typer<0.10.0,>=0.3.0 in /usr/local/lib/python3.10/dist-packages (from spacy->tjdatasets[pt-core-news-lg]@ git+https://github.com/GiliardGodoi/tj-datasets@march-24-version) (0.9.0)\n",
            "Requirement already satisfied: smart-open<7.0.0,>=5.2.1 in /usr/local/lib/python3.10/dist-packages (from spacy->tjdatasets[pt-core-news-lg]@ git+https://github.com/GiliardGodoi/tj-datasets@march-24-version) (6.4.0)\n",
            "Requirement already satisfied: requests<3.0.0,>=2.13.0 in /usr/local/lib/python3.10/dist-packages (from spacy->tjdatasets[pt-core-news-lg]@ git+https://github.com/GiliardGodoi/tj-datasets@march-24-version) (2.31.0)\n",
            "Requirement already satisfied: pydantic!=1.8,!=1.8.1,<3.0.0,>=1.7.4 in /usr/local/lib/python3.10/dist-packages (from spacy->tjdatasets[pt-core-news-lg]@ git+https://github.com/GiliardGodoi/tj-datasets@march-24-version) (2.6.4)\n",
            "Requirement already satisfied: jinja2 in /usr/local/lib/python3.10/dist-packages (from spacy->tjdatasets[pt-core-news-lg]@ git+https://github.com/GiliardGodoi/tj-datasets@march-24-version) (3.1.3)\n",
            "Requirement already satisfied: setuptools in /usr/local/lib/python3.10/dist-packages (from spacy->tjdatasets[pt-core-news-lg]@ git+https://github.com/GiliardGodoi/tj-datasets@march-24-version) (67.7.2)\n",
            "Requirement already satisfied: packaging>=20.0 in /usr/local/lib/python3.10/dist-packages (from spacy->tjdatasets[pt-core-news-lg]@ git+https://github.com/GiliardGodoi/tj-datasets@march-24-version) (24.0)\n",
            "Requirement already satisfied: langcodes<4.0.0,>=3.2.0 in /usr/local/lib/python3.10/dist-packages (from spacy->tjdatasets[pt-core-news-lg]@ git+https://github.com/GiliardGodoi/tj-datasets@march-24-version) (3.3.0)\n",
            "Requirement already satisfied: scipy>=1.3.2 in /usr/local/lib/python3.10/dist-packages (from scikit-learn->tjdatasets[pt-core-news-lg]@ git+https://github.com/GiliardGodoi/tj-datasets@march-24-version) (1.11.4)\n",
            "Requirement already satisfied: threadpoolctl>=2.0.0 in /usr/local/lib/python3.10/dist-packages (from scikit-learn->tjdatasets[pt-core-news-lg]@ git+https://github.com/GiliardGodoi/tj-datasets@march-24-version) (3.3.0)\n",
            "Requirement already satisfied: annotated-types>=0.4.0 in /usr/local/lib/python3.10/dist-packages (from pydantic!=1.8,!=1.8.1,<3.0.0,>=1.7.4->spacy->tjdatasets[pt-core-news-lg]@ git+https://github.com/GiliardGodoi/tj-datasets@march-24-version) (0.6.0)\n",
            "Requirement already satisfied: pydantic-core==2.16.3 in /usr/local/lib/python3.10/dist-packages (from pydantic!=1.8,!=1.8.1,<3.0.0,>=1.7.4->spacy->tjdatasets[pt-core-news-lg]@ git+https://github.com/GiliardGodoi/tj-datasets@march-24-version) (2.16.3)\n",
            "Requirement already satisfied: typing-extensions>=4.6.1 in /usr/local/lib/python3.10/dist-packages (from pydantic!=1.8,!=1.8.1,<3.0.0,>=1.7.4->spacy->tjdatasets[pt-core-news-lg]@ git+https://github.com/GiliardGodoi/tj-datasets@march-24-version) (4.10.0)\n",
            "Requirement already satisfied: six>=1.5 in /usr/local/lib/python3.10/dist-packages (from python-dateutil>=2.8.1->pandas->tjdatasets[pt-core-news-lg]@ git+https://github.com/GiliardGodoi/tj-datasets@march-24-version) (1.16.0)\n",
            "Requirement already satisfied: charset-normalizer<4,>=2 in /usr/local/lib/python3.10/dist-packages (from requests<3.0.0,>=2.13.0->spacy->tjdatasets[pt-core-news-lg]@ git+https://github.com/GiliardGodoi/tj-datasets@march-24-version) (3.3.2)\n",
            "Requirement already satisfied: idna<4,>=2.5 in /usr/local/lib/python3.10/dist-packages (from requests<3.0.0,>=2.13.0->spacy->tjdatasets[pt-core-news-lg]@ git+https://github.com/GiliardGodoi/tj-datasets@march-24-version) (3.6)\n",
            "Requirement already satisfied: urllib3<3,>=1.21.1 in /usr/local/lib/python3.10/dist-packages (from requests<3.0.0,>=2.13.0->spacy->tjdatasets[pt-core-news-lg]@ git+https://github.com/GiliardGodoi/tj-datasets@march-24-version) (2.0.7)\n",
            "Requirement already satisfied: certifi>=2017.4.17 in /usr/local/lib/python3.10/dist-packages (from requests<3.0.0,>=2.13.0->spacy->tjdatasets[pt-core-news-lg]@ git+https://github.com/GiliardGodoi/tj-datasets@march-24-version) (2024.2.2)\n",
            "Requirement already satisfied: blis<0.8.0,>=0.7.8 in /usr/local/lib/python3.10/dist-packages (from thinc<8.3.0,>=8.2.2->spacy->tjdatasets[pt-core-news-lg]@ git+https://github.com/GiliardGodoi/tj-datasets@march-24-version) (0.7.11)\n",
            "Requirement already satisfied: confection<1.0.0,>=0.0.1 in /usr/local/lib/python3.10/dist-packages (from thinc<8.3.0,>=8.2.2->spacy->tjdatasets[pt-core-news-lg]@ git+https://github.com/GiliardGodoi/tj-datasets@march-24-version) (0.1.4)\n",
            "Requirement already satisfied: cloudpathlib<0.17.0,>=0.7.0 in /usr/local/lib/python3.10/dist-packages (from weasel<0.4.0,>=0.1.0->spacy->tjdatasets[pt-core-news-lg]@ git+https://github.com/GiliardGodoi/tj-datasets@march-24-version) (0.16.0)\n",
            "Requirement already satisfied: MarkupSafe>=2.0 in /usr/local/lib/python3.10/dist-packages (from jinja2->spacy->tjdatasets[pt-core-news-lg]@ git+https://github.com/GiliardGodoi/tj-datasets@march-24-version) (2.1.5)\n",
            "Building wheels for collected packages: tjdatasets\n",
            "  Building wheel for tjdatasets (pyproject.toml) ... \u001b[?25l\u001b[?25hdone\n",
            "  Created wheel for tjdatasets: filename=tjdatasets-0.0.2-py3-none-any.whl size=13195 sha256=6bfa4aad785acbd5ee139dd9b084889474bb26717d27e5b82cb06fe62ca68c74\n",
            "  Stored in directory: /tmp/pip-ephem-wheel-cache-l1fviyc6/wheels/58/71/c9/798ae99335659a072b93fef03aa949a01b41e1507c8dcc60b2\n",
            "Successfully built tjdatasets\n",
            "Installing collected packages: tjdatasets, pt-core-news-lg\n",
            "Successfully installed pt-core-news-lg-3.7.0 tjdatasets-0.0.2\n"
          ]
        }
      ],
      "source": [
        "!pip install \"tjdatasets[pt-core-news-lg] @ git+https://github.com/GiliardGodoi/tj-datasets@march-24-version\""
      ]
    },
    {
      "cell_type": "markdown",
      "source": [
        "Ao importar a biblioteca, ela também já verifica a disponibilidade dos pacotes adicionais da biblioteca `nltk` que são utilizadas em algumas operações."
      ],
      "metadata": {
        "id": "QVF-ZBamGvKG"
      }
    },
    {
      "cell_type": "code",
      "source": [
        "import tjdatasets"
      ],
      "metadata": {
        "colab": {
          "base_uri": "https://localhost:8080/"
        },
        "id": "FUNSkrL7Gjpi",
        "outputId": "f5c89c5f-31c5-4ff6-f277-d0914ab22d62"
      },
      "execution_count": 2,
      "outputs": [
        {
          "output_type": "stream",
          "name": "stderr",
          "text": [
            "[nltk_data] Downloading package punkt to /root/nltk_data...\n",
            "[nltk_data]   Unzipping tokenizers/punkt.zip.\n",
            "[nltk_data] Downloading package rslp to /root/nltk_data...\n",
            "[nltk_data]   Unzipping stemmers/rslp.zip.\n",
            "[nltk_data] Downloading package stopwords to /root/nltk_data...\n",
            "[nltk_data]   Unzipping corpora/stopwords.zip.\n"
          ]
        }
      ]
    },
    {
      "cell_type": "markdown",
      "source": [
        "# Clonando o repositório e instalando\n",
        "\n",
        "Uma segunda alternativa é clonar o repositório e instalar a partir do *source code*"
      ],
      "metadata": {
        "id": "ybN_Do_4HSS0"
      }
    },
    {
      "cell_type": "code",
      "source": [
        "!git clone https://github.com/GiliardGodoi/tj-datasets.git"
      ],
      "metadata": {
        "colab": {
          "base_uri": "https://localhost:8080/"
        },
        "id": "OVvROPojGkuP",
        "outputId": "9387a268-2986-457b-8381-695116f6e4ec"
      },
      "execution_count": 3,
      "outputs": [
        {
          "output_type": "stream",
          "name": "stdout",
          "text": [
            "Cloning into 'tj-datasets'...\n",
            "remote: Enumerating objects: 170, done.\u001b[K\n",
            "remote: Counting objects: 100% (170/170), done.\u001b[K\n",
            "remote: Compressing objects: 100% (94/94), done.\u001b[K\n",
            "remote: Total 170 (delta 79), reused 130 (delta 45), pack-reused 0\u001b[K\n",
            "Receiving objects: 100% (170/170), 49.28 KiB | 5.48 MiB/s, done.\n",
            "Resolving deltas: 100% (79/79), done.\n"
          ]
        }
      ]
    },
    {
      "cell_type": "code",
      "source": [
        "!pip install tj-datasets/."
      ],
      "metadata": {
        "colab": {
          "base_uri": "https://localhost:8080/",
          "height": 427
        },
        "id": "HEtpyrNSHd2U",
        "outputId": "476a78c7-4f60-4ffe-ab2a-3651c97b9bce"
      },
      "execution_count": 7,
      "outputs": [
        {
          "output_type": "stream",
          "name": "stdout",
          "text": [
            "Processing ./tj-datasets\n",
            "  Installing build dependencies ... \u001b[?25l\u001b[?25hdone\n",
            "  Getting requirements to build wheel ... \u001b[?25l\u001b[?25hdone\n",
            "  Installing backend dependencies ... \u001b[?25l\u001b[?25hdone\n",
            "  Preparing metadata (pyproject.toml) ... \u001b[?25l\u001b[?25hdone\n",
            "Building wheels for collected packages: tjdatasets\n",
            "  Building wheel for tjdatasets (pyproject.toml) ... \u001b[?25l\u001b[?25hdone\n",
            "  Created wheel for tjdatasets: filename=tjdatasets-0.0.1-py3-none-any.whl size=9721 sha256=66944e36e037614d0a45148b95bfc51e138a49d7e41f4559e3fc34cd59584e82\n",
            "  Stored in directory: /root/.cache/pip/wheels/f5/ba/3e/0a13642d65b485b43309f63c186499fedfecb9e5c04804143e\n",
            "Successfully built tjdatasets\n",
            "Installing collected packages: tjdatasets\n",
            "  Attempting uninstall: tjdatasets\n",
            "    Found existing installation: tjdatasets 0.0.2\n",
            "    Uninstalling tjdatasets-0.0.2:\n",
            "      Successfully uninstalled tjdatasets-0.0.2\n",
            "Successfully installed tjdatasets-0.0.1\n"
          ]
        },
        {
          "output_type": "display_data",
          "data": {
            "application/vnd.colab-display-data+json": {
              "pip_warning": {
                "packages": [
                  "tjdatasets"
                ]
              },
              "id": "ecc08f74f9c74da88cb9f3f770a990a3"
            }
          },
          "metadata": {}
        }
      ]
    },
    {
      "cell_type": "code",
      "source": [],
      "metadata": {
        "id": "XzWlfEv8Hilq"
      },
      "execution_count": null,
      "outputs": []
    }
  ]
}